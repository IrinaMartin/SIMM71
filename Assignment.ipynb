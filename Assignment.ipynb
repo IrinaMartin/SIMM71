{
  "nbformat": 4,
  "nbformat_minor": 0,
  "metadata": {
    "colab": {
      "provenance": []
    },
    "kernelspec": {
      "name": "python3",
      "display_name": "Python 3"
    },
    "language_info": {
      "name": "python"
    }
  },
  "cells": [
    {
      "cell_type": "code",
      "source": [],
      "metadata": {
        "id": "Dfe-H2CdVjcl"
      },
      "execution_count": null,
      "outputs": []
    },
    {
      "cell_type": "markdown",
      "source": [
        "# Natural Language Processing of TikTok comments on content promoting fast fashion\n",
        "\n",
        "### Analysing how social media drives consumption through sentiment analysis\n",
        "\n",
        "**Irina Martin**\n",
        "\n",
        "Through this analysis, I aim to analyse how social media drives consumption. Social media is actively used by 4 billion people according to Statista. Social media exposes people to various types of information, including advertisment and product promotion. Often, the people who advertise certain products are also users, who perform these paid promotions to drive sales (Manneh, 2017).TikTok has become a platform for paid promotions, but a lot of the video content online that promotes various items does not transparently say that they are a paid promoter.\n",
        "\n",
        "**My research question for this project is:**\n",
        "\n",
        "*Does social media content drive the consumption of fast fashion among TikTok users?*\n",
        "\n",
        "**Methodology**\n",
        "\n",
        "In order to perform this analysis, I have started by collecting the data and creating a dataset from TikTok data. I used API's from the popular social media platform to collect comments under three TikToks. The content selected represents video content on various garments from known fast fashion brands. The content was created in order to promote specific garments from different fast fashion brands such as Zara, Mango and Stradivarius. By analysing the comments I am trying to estimate how many of the commenters are wanting to buy the products in the video after viewing. A lot of these comments are a clear indicator because people often ask for the 'product code' or 'reference code' to be able to find the product online or express that they want to buy what is presented in the video.\n",
        "\n",
        "Therefore, I have selected 208 comments from under 3 video content promoting fast fashion from TikTok. I will be looking for the frequency of the words to understand what are the main words and whether they support my hypothesis that social media drives fast fashion. According to literature, 'most basic quantitative output available from the programs is a word count, reporting the frequency of each word occurring in a text or a set of texts' (Neuendorf, 2017).\n",
        "\n",
        "Furthermore, it is an important aspect to consider user engagement metrics such as likes, shares, and how many likes and replies comments have. It is important to note that the dataset does not contain all the comments existent under these 3 TikToks as a lot of them were deleted to make the dataset smaller for this assignment.\n",
        "\n",
        "In the second part of the analysis, I will perform topic modeling to understand what other types of reactions these videos can get. Because the two of the three videos contain content creators promoting certain garments while trying them on, and the other video promotes garments without trying them on, the topics arrising in the comments might be different. Often, the content creators are people that might fit into certain body types and categories of beauty standards, sometimes leaving some of the users with a negative sense of body image. Because some comments express that through words refering to body parts and body attributes such as 'shoulders', 'tall', 'fat', 'ugly' this can be categorised in a different topic other than consumption.\n"
      ],
      "metadata": {
        "id": "jVQy64ghVgeA"
      }
    },
    {
      "cell_type": "markdown",
      "source": [
        "## Data pre-processing and data cleaning\n",
        "\n",
        "Having scraped around 300 comments initially, I then manually cleaned comments that didn't represent importance such as incoherent text. In order to proceed with the coding, I am uploaded the necessary packages and uploading and exploring the dataset.\n",
        "\n"
      ],
      "metadata": {
        "id": "_QrBGDjHajTS"
      }
    },
    {
      "cell_type": "code",
      "source": [
        "import pandas as pd\n",
        "import nltk\n",
        "from nltk.tokenize import word_tokenize\n",
        "from nltk.corpus import stopwords\n",
        "from nltk.stem import WordNetLemmatizer\n",
        "from textblob import TextBlob\n",
        "import matplotlib.pyplot as plt"
      ],
      "metadata": {
        "id": "I2FYUEXdLGiv"
      },
      "execution_count": 2,
      "outputs": []
    },
    {
      "cell_type": "code",
      "source": [
        "#!pip install gdown\n",
        "!gdown https://drive.google.com/uc?id=1wZ-UZ9mcebLDq-xpPzkq_DrniWlF8dX6"
      ],
      "metadata": {
        "colab": {
          "base_uri": "https://localhost:8080/"
        },
        "id": "quvsk9wILGCV",
        "outputId": "21b1a186-b637-4708-d6c6-885520fb00ce"
      },
      "execution_count": 5,
      "outputs": [
        {
          "output_type": "stream",
          "name": "stdout",
          "text": [
            "Downloading...\n",
            "From: https://drive.google.com/uc?id=1wZ-UZ9mcebLDq-xpPzkq_DrniWlF8dX6\n",
            "To: /content/TikTok comments.xlsx\n",
            "\r  0% 0.00/20.2k [00:00<?, ?B/s]\r100% 20.2k/20.2k [00:00<00:00, 33.5MB/s]\n"
          ]
        }
      ]
    },
    {
      "cell_type": "code",
      "source": [
        "fp = \"TikTok comments.xlsx\"\n",
        "df = pd.read_excel(fp, header=None, skiprows=1)\n",
        "df.head()"
      ],
      "metadata": {
        "colab": {
          "base_uri": "https://localhost:8080/",
          "height": 206
        },
        "id": "m8Gci2TPLnHj",
        "outputId": "9677db1d-506d-4f05-9234-951d0b32f2bd"
      },
      "execution_count": 7,
      "outputs": [
        {
          "output_type": "execute_result",
          "data": {
            "text/plain": [
              "                     0                                                  1  \\\n",
              "0  7146651896115037190             My broad shoulders and fat arms say no   \n",
              "1  7073313397429601285  I prefer ones from Massimo Dutti :) those are ...   \n",
              "2  6982095142217253889                 Literally went to mango and got it   \n",
              "3  6802557867163862022                                        Wait I need   \n",
              "4  6828575644847850501                                         I want it!   \n",
              "\n",
              "                                                   2    3  \n",
              "0  https://www.tiktok.com/@elisamariastyle/video/...  717  \n",
              "1  https://www.tiktok.com/@elisamariastyle/video/...   46  \n",
              "2  https://www.tiktok.com/@elisamariastyle/video/...   61  \n",
              "3  https://www.tiktok.com/@elisamariastyle/video/...    9  \n",
              "4  https://www.tiktok.com/@elisamariastyle/video/...    5  "
            ],
            "text/html": [
              "\n",
              "  <div id=\"df-1420ad55-ddfe-4b75-a2bd-f198f2a32e20\" class=\"colab-df-container\">\n",
              "    <div>\n",
              "<style scoped>\n",
              "    .dataframe tbody tr th:only-of-type {\n",
              "        vertical-align: middle;\n",
              "    }\n",
              "\n",
              "    .dataframe tbody tr th {\n",
              "        vertical-align: top;\n",
              "    }\n",
              "\n",
              "    .dataframe thead th {\n",
              "        text-align: right;\n",
              "    }\n",
              "</style>\n",
              "<table border=\"1\" class=\"dataframe\">\n",
              "  <thead>\n",
              "    <tr style=\"text-align: right;\">\n",
              "      <th></th>\n",
              "      <th>0</th>\n",
              "      <th>1</th>\n",
              "      <th>2</th>\n",
              "      <th>3</th>\n",
              "    </tr>\n",
              "  </thead>\n",
              "  <tbody>\n",
              "    <tr>\n",
              "      <th>0</th>\n",
              "      <td>7146651896115037190</td>\n",
              "      <td>My broad shoulders and fat arms say no</td>\n",
              "      <td>https://www.tiktok.com/@elisamariastyle/video/...</td>\n",
              "      <td>717</td>\n",
              "    </tr>\n",
              "    <tr>\n",
              "      <th>1</th>\n",
              "      <td>7073313397429601285</td>\n",
              "      <td>I prefer ones from Massimo Dutti :) those are ...</td>\n",
              "      <td>https://www.tiktok.com/@elisamariastyle/video/...</td>\n",
              "      <td>46</td>\n",
              "    </tr>\n",
              "    <tr>\n",
              "      <th>2</th>\n",
              "      <td>6982095142217253889</td>\n",
              "      <td>Literally went to mango and got it</td>\n",
              "      <td>https://www.tiktok.com/@elisamariastyle/video/...</td>\n",
              "      <td>61</td>\n",
              "    </tr>\n",
              "    <tr>\n",
              "      <th>3</th>\n",
              "      <td>6802557867163862022</td>\n",
              "      <td>Wait I need</td>\n",
              "      <td>https://www.tiktok.com/@elisamariastyle/video/...</td>\n",
              "      <td>9</td>\n",
              "    </tr>\n",
              "    <tr>\n",
              "      <th>4</th>\n",
              "      <td>6828575644847850501</td>\n",
              "      <td>I want it!</td>\n",
              "      <td>https://www.tiktok.com/@elisamariastyle/video/...</td>\n",
              "      <td>5</td>\n",
              "    </tr>\n",
              "  </tbody>\n",
              "</table>\n",
              "</div>\n",
              "    <div class=\"colab-df-buttons\">\n",
              "\n",
              "  <div class=\"colab-df-container\">\n",
              "    <button class=\"colab-df-convert\" onclick=\"convertToInteractive('df-1420ad55-ddfe-4b75-a2bd-f198f2a32e20')\"\n",
              "            title=\"Convert this dataframe to an interactive table.\"\n",
              "            style=\"display:none;\">\n",
              "\n",
              "  <svg xmlns=\"http://www.w3.org/2000/svg\" height=\"24px\" viewBox=\"0 -960 960 960\">\n",
              "    <path d=\"M120-120v-720h720v720H120Zm60-500h600v-160H180v160Zm220 220h160v-160H400v160Zm0 220h160v-160H400v160ZM180-400h160v-160H180v160Zm440 0h160v-160H620v160ZM180-180h160v-160H180v160Zm440 0h160v-160H620v160Z\"/>\n",
              "  </svg>\n",
              "    </button>\n",
              "\n",
              "  <style>\n",
              "    .colab-df-container {\n",
              "      display:flex;\n",
              "      gap: 12px;\n",
              "    }\n",
              "\n",
              "    .colab-df-convert {\n",
              "      background-color: #E8F0FE;\n",
              "      border: none;\n",
              "      border-radius: 50%;\n",
              "      cursor: pointer;\n",
              "      display: none;\n",
              "      fill: #1967D2;\n",
              "      height: 32px;\n",
              "      padding: 0 0 0 0;\n",
              "      width: 32px;\n",
              "    }\n",
              "\n",
              "    .colab-df-convert:hover {\n",
              "      background-color: #E2EBFA;\n",
              "      box-shadow: 0px 1px 2px rgba(60, 64, 67, 0.3), 0px 1px 3px 1px rgba(60, 64, 67, 0.15);\n",
              "      fill: #174EA6;\n",
              "    }\n",
              "\n",
              "    .colab-df-buttons div {\n",
              "      margin-bottom: 4px;\n",
              "    }\n",
              "\n",
              "    [theme=dark] .colab-df-convert {\n",
              "      background-color: #3B4455;\n",
              "      fill: #D2E3FC;\n",
              "    }\n",
              "\n",
              "    [theme=dark] .colab-df-convert:hover {\n",
              "      background-color: #434B5C;\n",
              "      box-shadow: 0px 1px 3px 1px rgba(0, 0, 0, 0.15);\n",
              "      filter: drop-shadow(0px 1px 2px rgba(0, 0, 0, 0.3));\n",
              "      fill: #FFFFFF;\n",
              "    }\n",
              "  </style>\n",
              "\n",
              "    <script>\n",
              "      const buttonEl =\n",
              "        document.querySelector('#df-1420ad55-ddfe-4b75-a2bd-f198f2a32e20 button.colab-df-convert');\n",
              "      buttonEl.style.display =\n",
              "        google.colab.kernel.accessAllowed ? 'block' : 'none';\n",
              "\n",
              "      async function convertToInteractive(key) {\n",
              "        const element = document.querySelector('#df-1420ad55-ddfe-4b75-a2bd-f198f2a32e20');\n",
              "        const dataTable =\n",
              "          await google.colab.kernel.invokeFunction('convertToInteractive',\n",
              "                                                    [key], {});\n",
              "        if (!dataTable) return;\n",
              "\n",
              "        const docLinkHtml = 'Like what you see? Visit the ' +\n",
              "          '<a target=\"_blank\" href=https://colab.research.google.com/notebooks/data_table.ipynb>data table notebook</a>'\n",
              "          + ' to learn more about interactive tables.';\n",
              "        element.innerHTML = '';\n",
              "        dataTable['output_type'] = 'display_data';\n",
              "        await google.colab.output.renderOutput(dataTable, element);\n",
              "        const docLink = document.createElement('div');\n",
              "        docLink.innerHTML = docLinkHtml;\n",
              "        element.appendChild(docLink);\n",
              "      }\n",
              "    </script>\n",
              "  </div>\n",
              "\n",
              "\n",
              "<div id=\"df-6ce46224-4e0f-49d2-b879-4ca1834c0db1\">\n",
              "  <button class=\"colab-df-quickchart\" onclick=\"quickchart('df-6ce46224-4e0f-49d2-b879-4ca1834c0db1')\"\n",
              "            title=\"Suggest charts\"\n",
              "            style=\"display:none;\">\n",
              "\n",
              "<svg xmlns=\"http://www.w3.org/2000/svg\" height=\"24px\"viewBox=\"0 0 24 24\"\n",
              "     width=\"24px\">\n",
              "    <g>\n",
              "        <path d=\"M19 3H5c-1.1 0-2 .9-2 2v14c0 1.1.9 2 2 2h14c1.1 0 2-.9 2-2V5c0-1.1-.9-2-2-2zM9 17H7v-7h2v7zm4 0h-2V7h2v10zm4 0h-2v-4h2v4z\"/>\n",
              "    </g>\n",
              "</svg>\n",
              "  </button>\n",
              "\n",
              "<style>\n",
              "  .colab-df-quickchart {\n",
              "      --bg-color: #E8F0FE;\n",
              "      --fill-color: #1967D2;\n",
              "      --hover-bg-color: #E2EBFA;\n",
              "      --hover-fill-color: #174EA6;\n",
              "      --disabled-fill-color: #AAA;\n",
              "      --disabled-bg-color: #DDD;\n",
              "  }\n",
              "\n",
              "  [theme=dark] .colab-df-quickchart {\n",
              "      --bg-color: #3B4455;\n",
              "      --fill-color: #D2E3FC;\n",
              "      --hover-bg-color: #434B5C;\n",
              "      --hover-fill-color: #FFFFFF;\n",
              "      --disabled-bg-color: #3B4455;\n",
              "      --disabled-fill-color: #666;\n",
              "  }\n",
              "\n",
              "  .colab-df-quickchart {\n",
              "    background-color: var(--bg-color);\n",
              "    border: none;\n",
              "    border-radius: 50%;\n",
              "    cursor: pointer;\n",
              "    display: none;\n",
              "    fill: var(--fill-color);\n",
              "    height: 32px;\n",
              "    padding: 0;\n",
              "    width: 32px;\n",
              "  }\n",
              "\n",
              "  .colab-df-quickchart:hover {\n",
              "    background-color: var(--hover-bg-color);\n",
              "    box-shadow: 0 1px 2px rgba(60, 64, 67, 0.3), 0 1px 3px 1px rgba(60, 64, 67, 0.15);\n",
              "    fill: var(--button-hover-fill-color);\n",
              "  }\n",
              "\n",
              "  .colab-df-quickchart-complete:disabled,\n",
              "  .colab-df-quickchart-complete:disabled:hover {\n",
              "    background-color: var(--disabled-bg-color);\n",
              "    fill: var(--disabled-fill-color);\n",
              "    box-shadow: none;\n",
              "  }\n",
              "\n",
              "  .colab-df-spinner {\n",
              "    border: 2px solid var(--fill-color);\n",
              "    border-color: transparent;\n",
              "    border-bottom-color: var(--fill-color);\n",
              "    animation:\n",
              "      spin 1s steps(1) infinite;\n",
              "  }\n",
              "\n",
              "  @keyframes spin {\n",
              "    0% {\n",
              "      border-color: transparent;\n",
              "      border-bottom-color: var(--fill-color);\n",
              "      border-left-color: var(--fill-color);\n",
              "    }\n",
              "    20% {\n",
              "      border-color: transparent;\n",
              "      border-left-color: var(--fill-color);\n",
              "      border-top-color: var(--fill-color);\n",
              "    }\n",
              "    30% {\n",
              "      border-color: transparent;\n",
              "      border-left-color: var(--fill-color);\n",
              "      border-top-color: var(--fill-color);\n",
              "      border-right-color: var(--fill-color);\n",
              "    }\n",
              "    40% {\n",
              "      border-color: transparent;\n",
              "      border-right-color: var(--fill-color);\n",
              "      border-top-color: var(--fill-color);\n",
              "    }\n",
              "    60% {\n",
              "      border-color: transparent;\n",
              "      border-right-color: var(--fill-color);\n",
              "    }\n",
              "    80% {\n",
              "      border-color: transparent;\n",
              "      border-right-color: var(--fill-color);\n",
              "      border-bottom-color: var(--fill-color);\n",
              "    }\n",
              "    90% {\n",
              "      border-color: transparent;\n",
              "      border-bottom-color: var(--fill-color);\n",
              "    }\n",
              "  }\n",
              "</style>\n",
              "\n",
              "  <script>\n",
              "    async function quickchart(key) {\n",
              "      const quickchartButtonEl =\n",
              "        document.querySelector('#' + key + ' button');\n",
              "      quickchartButtonEl.disabled = true;  // To prevent multiple clicks.\n",
              "      quickchartButtonEl.classList.add('colab-df-spinner');\n",
              "      try {\n",
              "        const charts = await google.colab.kernel.invokeFunction(\n",
              "            'suggestCharts', [key], {});\n",
              "      } catch (error) {\n",
              "        console.error('Error during call to suggestCharts:', error);\n",
              "      }\n",
              "      quickchartButtonEl.classList.remove('colab-df-spinner');\n",
              "      quickchartButtonEl.classList.add('colab-df-quickchart-complete');\n",
              "    }\n",
              "    (() => {\n",
              "      let quickchartButtonEl =\n",
              "        document.querySelector('#df-6ce46224-4e0f-49d2-b879-4ca1834c0db1 button');\n",
              "      quickchartButtonEl.style.display =\n",
              "        google.colab.kernel.accessAllowed ? 'block' : 'none';\n",
              "    })();\n",
              "  </script>\n",
              "</div>\n",
              "    </div>\n",
              "  </div>\n"
            ]
          },
          "metadata": {},
          "execution_count": 7
        }
      ]
    },
    {
      "cell_type": "code",
      "source": [
        "df.columns = ['id', 'text', 'link', 'diggCount']\n",
        "df.head()"
      ],
      "metadata": {
        "colab": {
          "base_uri": "https://localhost:8080/",
          "height": 206
        },
        "id": "fS1dRd8uLyU2",
        "outputId": "41c78429-f854-427c-8435-d5099ce2efbb"
      },
      "execution_count": 8,
      "outputs": [
        {
          "output_type": "execute_result",
          "data": {
            "text/plain": [
              "                    id                                               text  \\\n",
              "0  7146651896115037190             My broad shoulders and fat arms say no   \n",
              "1  7073313397429601285  I prefer ones from Massimo Dutti :) those are ...   \n",
              "2  6982095142217253889                 Literally went to mango and got it   \n",
              "3  6802557867163862022                                        Wait I need   \n",
              "4  6828575644847850501                                         I want it!   \n",
              "\n",
              "                                                link  diggCount  \n",
              "0  https://www.tiktok.com/@elisamariastyle/video/...        717  \n",
              "1  https://www.tiktok.com/@elisamariastyle/video/...         46  \n",
              "2  https://www.tiktok.com/@elisamariastyle/video/...         61  \n",
              "3  https://www.tiktok.com/@elisamariastyle/video/...          9  \n",
              "4  https://www.tiktok.com/@elisamariastyle/video/...          5  "
            ],
            "text/html": [
              "\n",
              "  <div id=\"df-cda84325-0077-4536-9c62-f831dacf48c9\" class=\"colab-df-container\">\n",
              "    <div>\n",
              "<style scoped>\n",
              "    .dataframe tbody tr th:only-of-type {\n",
              "        vertical-align: middle;\n",
              "    }\n",
              "\n",
              "    .dataframe tbody tr th {\n",
              "        vertical-align: top;\n",
              "    }\n",
              "\n",
              "    .dataframe thead th {\n",
              "        text-align: right;\n",
              "    }\n",
              "</style>\n",
              "<table border=\"1\" class=\"dataframe\">\n",
              "  <thead>\n",
              "    <tr style=\"text-align: right;\">\n",
              "      <th></th>\n",
              "      <th>id</th>\n",
              "      <th>text</th>\n",
              "      <th>link</th>\n",
              "      <th>diggCount</th>\n",
              "    </tr>\n",
              "  </thead>\n",
              "  <tbody>\n",
              "    <tr>\n",
              "      <th>0</th>\n",
              "      <td>7146651896115037190</td>\n",
              "      <td>My broad shoulders and fat arms say no</td>\n",
              "      <td>https://www.tiktok.com/@elisamariastyle/video/...</td>\n",
              "      <td>717</td>\n",
              "    </tr>\n",
              "    <tr>\n",
              "      <th>1</th>\n",
              "      <td>7073313397429601285</td>\n",
              "      <td>I prefer ones from Massimo Dutti :) those are ...</td>\n",
              "      <td>https://www.tiktok.com/@elisamariastyle/video/...</td>\n",
              "      <td>46</td>\n",
              "    </tr>\n",
              "    <tr>\n",
              "      <th>2</th>\n",
              "      <td>6982095142217253889</td>\n",
              "      <td>Literally went to mango and got it</td>\n",
              "      <td>https://www.tiktok.com/@elisamariastyle/video/...</td>\n",
              "      <td>61</td>\n",
              "    </tr>\n",
              "    <tr>\n",
              "      <th>3</th>\n",
              "      <td>6802557867163862022</td>\n",
              "      <td>Wait I need</td>\n",
              "      <td>https://www.tiktok.com/@elisamariastyle/video/...</td>\n",
              "      <td>9</td>\n",
              "    </tr>\n",
              "    <tr>\n",
              "      <th>4</th>\n",
              "      <td>6828575644847850501</td>\n",
              "      <td>I want it!</td>\n",
              "      <td>https://www.tiktok.com/@elisamariastyle/video/...</td>\n",
              "      <td>5</td>\n",
              "    </tr>\n",
              "  </tbody>\n",
              "</table>\n",
              "</div>\n",
              "    <div class=\"colab-df-buttons\">\n",
              "\n",
              "  <div class=\"colab-df-container\">\n",
              "    <button class=\"colab-df-convert\" onclick=\"convertToInteractive('df-cda84325-0077-4536-9c62-f831dacf48c9')\"\n",
              "            title=\"Convert this dataframe to an interactive table.\"\n",
              "            style=\"display:none;\">\n",
              "\n",
              "  <svg xmlns=\"http://www.w3.org/2000/svg\" height=\"24px\" viewBox=\"0 -960 960 960\">\n",
              "    <path d=\"M120-120v-720h720v720H120Zm60-500h600v-160H180v160Zm220 220h160v-160H400v160Zm0 220h160v-160H400v160ZM180-400h160v-160H180v160Zm440 0h160v-160H620v160ZM180-180h160v-160H180v160Zm440 0h160v-160H620v160Z\"/>\n",
              "  </svg>\n",
              "    </button>\n",
              "\n",
              "  <style>\n",
              "    .colab-df-container {\n",
              "      display:flex;\n",
              "      gap: 12px;\n",
              "    }\n",
              "\n",
              "    .colab-df-convert {\n",
              "      background-color: #E8F0FE;\n",
              "      border: none;\n",
              "      border-radius: 50%;\n",
              "      cursor: pointer;\n",
              "      display: none;\n",
              "      fill: #1967D2;\n",
              "      height: 32px;\n",
              "      padding: 0 0 0 0;\n",
              "      width: 32px;\n",
              "    }\n",
              "\n",
              "    .colab-df-convert:hover {\n",
              "      background-color: #E2EBFA;\n",
              "      box-shadow: 0px 1px 2px rgba(60, 64, 67, 0.3), 0px 1px 3px 1px rgba(60, 64, 67, 0.15);\n",
              "      fill: #174EA6;\n",
              "    }\n",
              "\n",
              "    .colab-df-buttons div {\n",
              "      margin-bottom: 4px;\n",
              "    }\n",
              "\n",
              "    [theme=dark] .colab-df-convert {\n",
              "      background-color: #3B4455;\n",
              "      fill: #D2E3FC;\n",
              "    }\n",
              "\n",
              "    [theme=dark] .colab-df-convert:hover {\n",
              "      background-color: #434B5C;\n",
              "      box-shadow: 0px 1px 3px 1px rgba(0, 0, 0, 0.15);\n",
              "      filter: drop-shadow(0px 1px 2px rgba(0, 0, 0, 0.3));\n",
              "      fill: #FFFFFF;\n",
              "    }\n",
              "  </style>\n",
              "\n",
              "    <script>\n",
              "      const buttonEl =\n",
              "        document.querySelector('#df-cda84325-0077-4536-9c62-f831dacf48c9 button.colab-df-convert');\n",
              "      buttonEl.style.display =\n",
              "        google.colab.kernel.accessAllowed ? 'block' : 'none';\n",
              "\n",
              "      async function convertToInteractive(key) {\n",
              "        const element = document.querySelector('#df-cda84325-0077-4536-9c62-f831dacf48c9');\n",
              "        const dataTable =\n",
              "          await google.colab.kernel.invokeFunction('convertToInteractive',\n",
              "                                                    [key], {});\n",
              "        if (!dataTable) return;\n",
              "\n",
              "        const docLinkHtml = 'Like what you see? Visit the ' +\n",
              "          '<a target=\"_blank\" href=https://colab.research.google.com/notebooks/data_table.ipynb>data table notebook</a>'\n",
              "          + ' to learn more about interactive tables.';\n",
              "        element.innerHTML = '';\n",
              "        dataTable['output_type'] = 'display_data';\n",
              "        await google.colab.output.renderOutput(dataTable, element);\n",
              "        const docLink = document.createElement('div');\n",
              "        docLink.innerHTML = docLinkHtml;\n",
              "        element.appendChild(docLink);\n",
              "      }\n",
              "    </script>\n",
              "  </div>\n",
              "\n",
              "\n",
              "<div id=\"df-cf997fde-f22b-492b-a4b7-131839370394\">\n",
              "  <button class=\"colab-df-quickchart\" onclick=\"quickchart('df-cf997fde-f22b-492b-a4b7-131839370394')\"\n",
              "            title=\"Suggest charts\"\n",
              "            style=\"display:none;\">\n",
              "\n",
              "<svg xmlns=\"http://www.w3.org/2000/svg\" height=\"24px\"viewBox=\"0 0 24 24\"\n",
              "     width=\"24px\">\n",
              "    <g>\n",
              "        <path d=\"M19 3H5c-1.1 0-2 .9-2 2v14c0 1.1.9 2 2 2h14c1.1 0 2-.9 2-2V5c0-1.1-.9-2-2-2zM9 17H7v-7h2v7zm4 0h-2V7h2v10zm4 0h-2v-4h2v4z\"/>\n",
              "    </g>\n",
              "</svg>\n",
              "  </button>\n",
              "\n",
              "<style>\n",
              "  .colab-df-quickchart {\n",
              "      --bg-color: #E8F0FE;\n",
              "      --fill-color: #1967D2;\n",
              "      --hover-bg-color: #E2EBFA;\n",
              "      --hover-fill-color: #174EA6;\n",
              "      --disabled-fill-color: #AAA;\n",
              "      --disabled-bg-color: #DDD;\n",
              "  }\n",
              "\n",
              "  [theme=dark] .colab-df-quickchart {\n",
              "      --bg-color: #3B4455;\n",
              "      --fill-color: #D2E3FC;\n",
              "      --hover-bg-color: #434B5C;\n",
              "      --hover-fill-color: #FFFFFF;\n",
              "      --disabled-bg-color: #3B4455;\n",
              "      --disabled-fill-color: #666;\n",
              "  }\n",
              "\n",
              "  .colab-df-quickchart {\n",
              "    background-color: var(--bg-color);\n",
              "    border: none;\n",
              "    border-radius: 50%;\n",
              "    cursor: pointer;\n",
              "    display: none;\n",
              "    fill: var(--fill-color);\n",
              "    height: 32px;\n",
              "    padding: 0;\n",
              "    width: 32px;\n",
              "  }\n",
              "\n",
              "  .colab-df-quickchart:hover {\n",
              "    background-color: var(--hover-bg-color);\n",
              "    box-shadow: 0 1px 2px rgba(60, 64, 67, 0.3), 0 1px 3px 1px rgba(60, 64, 67, 0.15);\n",
              "    fill: var(--button-hover-fill-color);\n",
              "  }\n",
              "\n",
              "  .colab-df-quickchart-complete:disabled,\n",
              "  .colab-df-quickchart-complete:disabled:hover {\n",
              "    background-color: var(--disabled-bg-color);\n",
              "    fill: var(--disabled-fill-color);\n",
              "    box-shadow: none;\n",
              "  }\n",
              "\n",
              "  .colab-df-spinner {\n",
              "    border: 2px solid var(--fill-color);\n",
              "    border-color: transparent;\n",
              "    border-bottom-color: var(--fill-color);\n",
              "    animation:\n",
              "      spin 1s steps(1) infinite;\n",
              "  }\n",
              "\n",
              "  @keyframes spin {\n",
              "    0% {\n",
              "      border-color: transparent;\n",
              "      border-bottom-color: var(--fill-color);\n",
              "      border-left-color: var(--fill-color);\n",
              "    }\n",
              "    20% {\n",
              "      border-color: transparent;\n",
              "      border-left-color: var(--fill-color);\n",
              "      border-top-color: var(--fill-color);\n",
              "    }\n",
              "    30% {\n",
              "      border-color: transparent;\n",
              "      border-left-color: var(--fill-color);\n",
              "      border-top-color: var(--fill-color);\n",
              "      border-right-color: var(--fill-color);\n",
              "    }\n",
              "    40% {\n",
              "      border-color: transparent;\n",
              "      border-right-color: var(--fill-color);\n",
              "      border-top-color: var(--fill-color);\n",
              "    }\n",
              "    60% {\n",
              "      border-color: transparent;\n",
              "      border-right-color: var(--fill-color);\n",
              "    }\n",
              "    80% {\n",
              "      border-color: transparent;\n",
              "      border-right-color: var(--fill-color);\n",
              "      border-bottom-color: var(--fill-color);\n",
              "    }\n",
              "    90% {\n",
              "      border-color: transparent;\n",
              "      border-bottom-color: var(--fill-color);\n",
              "    }\n",
              "  }\n",
              "</style>\n",
              "\n",
              "  <script>\n",
              "    async function quickchart(key) {\n",
              "      const quickchartButtonEl =\n",
              "        document.querySelector('#' + key + ' button');\n",
              "      quickchartButtonEl.disabled = true;  // To prevent multiple clicks.\n",
              "      quickchartButtonEl.classList.add('colab-df-spinner');\n",
              "      try {\n",
              "        const charts = await google.colab.kernel.invokeFunction(\n",
              "            'suggestCharts', [key], {});\n",
              "      } catch (error) {\n",
              "        console.error('Error during call to suggestCharts:', error);\n",
              "      }\n",
              "      quickchartButtonEl.classList.remove('colab-df-spinner');\n",
              "      quickchartButtonEl.classList.add('colab-df-quickchart-complete');\n",
              "    }\n",
              "    (() => {\n",
              "      let quickchartButtonEl =\n",
              "        document.querySelector('#df-cf997fde-f22b-492b-a4b7-131839370394 button');\n",
              "      quickchartButtonEl.style.display =\n",
              "        google.colab.kernel.accessAllowed ? 'block' : 'none';\n",
              "    })();\n",
              "  </script>\n",
              "</div>\n",
              "    </div>\n",
              "  </div>\n"
            ]
          },
          "metadata": {},
          "execution_count": 8
        }
      ]
    },
    {
      "cell_type": "code",
      "source": [
        "print(\"Number of Rows:\", df.shape[0])"
      ],
      "metadata": {
        "colab": {
          "base_uri": "https://localhost:8080/"
        },
        "id": "2Dk1Z96IddKr",
        "outputId": "c47399be-8adc-4eaf-eb66-d1f1070fb83d"
      },
      "execution_count": 9,
      "outputs": [
        {
          "output_type": "stream",
          "name": "stdout",
          "text": [
            "Number of Rows: 204\n"
          ]
        }
      ]
    },
    {
      "cell_type": "code",
      "source": [
        "excel_file_path = 'TikTok comments.xlsx'\n",
        "comments_df = pd.read_excel(excel_file_path)\n",
        "\n",
        "print(comments_df.columns)\n",
        "\n",
        "# Checking the first few rows of the DataFrame to see the structure\n",
        "print(comments_df.head())"
      ],
      "metadata": {
        "colab": {
          "base_uri": "https://localhost:8080/"
        },
        "id": "POzSgkKEC8lV",
        "outputId": "97c8f079-1fff-4c41-d8f3-a756c4b7b200"
      },
      "execution_count": 11,
      "outputs": [
        {
          "output_type": "stream",
          "name": "stdout",
          "text": [
            "Index(['id', 'text', 'link', 'diggCount'], dtype='object')\n",
            "                    id                                               text  \\\n",
            "0  7146651896115037190             My broad shoulders and fat arms say no   \n",
            "1  7073313397429601285  I prefer ones from Massimo Dutti :) those are ...   \n",
            "2  6982095142217253889                 Literally went to mango and got it   \n",
            "3  6802557867163862022                                        Wait I need   \n",
            "4  6828575644847850501                                         I want it!   \n",
            "\n",
            "                                                link  diggCount  \n",
            "0  https://www.tiktok.com/@elisamariastyle/video/...        717  \n",
            "1  https://www.tiktok.com/@elisamariastyle/video/...         46  \n",
            "2  https://www.tiktok.com/@elisamariastyle/video/...         61  \n",
            "3  https://www.tiktok.com/@elisamariastyle/video/...          9  \n",
            "4  https://www.tiktok.com/@elisamariastyle/video/...          5  \n"
          ]
        }
      ]
    },
    {
      "cell_type": "code",
      "source": [
        "import spacy\n",
        "\n",
        "!python -m spacy download en_core_web_sm\n",
        "nlp = spacy.load('en_core_web_sm')"
      ],
      "metadata": {
        "colab": {
          "base_uri": "https://localhost:8080/"
        },
        "id": "TgcJpJvNL7CK",
        "outputId": "ebd2a828-8f5f-4a53-861c-52570018e748"
      },
      "execution_count": 10,
      "outputs": [
        {
          "output_type": "stream",
          "name": "stdout",
          "text": [
            "2023-12-14 13:12:51.476358: E tensorflow/compiler/xla/stream_executor/cuda/cuda_dnn.cc:9342] Unable to register cuDNN factory: Attempting to register factory for plugin cuDNN when one has already been registered\n",
            "2023-12-14 13:12:51.476447: E tensorflow/compiler/xla/stream_executor/cuda/cuda_fft.cc:609] Unable to register cuFFT factory: Attempting to register factory for plugin cuFFT when one has already been registered\n",
            "2023-12-14 13:12:51.476485: E tensorflow/compiler/xla/stream_executor/cuda/cuda_blas.cc:1518] Unable to register cuBLAS factory: Attempting to register factory for plugin cuBLAS when one has already been registered\n",
            "2023-12-14 13:12:52.976874: W tensorflow/compiler/tf2tensorrt/utils/py_utils.cc:38] TF-TRT Warning: Could not find TensorRT\n",
            "Collecting en-core-web-sm==3.6.0\n",
            "  Downloading https://github.com/explosion/spacy-models/releases/download/en_core_web_sm-3.6.0/en_core_web_sm-3.6.0-py3-none-any.whl (12.8 MB)\n",
            "\u001b[2K     \u001b[90m━━━━━━━━━━━━━━━━━━━━━━━━━━━━━━━━━━━━━━━━\u001b[0m \u001b[32m12.8/12.8 MB\u001b[0m \u001b[31m41.9 MB/s\u001b[0m eta \u001b[36m0:00:00\u001b[0m\n",
            "\u001b[?25hRequirement already satisfied: spacy<3.7.0,>=3.6.0 in /usr/local/lib/python3.10/dist-packages (from en-core-web-sm==3.6.0) (3.6.1)\n",
            "Requirement already satisfied: spacy-legacy<3.1.0,>=3.0.11 in /usr/local/lib/python3.10/dist-packages (from spacy<3.7.0,>=3.6.0->en-core-web-sm==3.6.0) (3.0.12)\n",
            "Requirement already satisfied: spacy-loggers<2.0.0,>=1.0.0 in /usr/local/lib/python3.10/dist-packages (from spacy<3.7.0,>=3.6.0->en-core-web-sm==3.6.0) (1.0.5)\n",
            "Requirement already satisfied: murmurhash<1.1.0,>=0.28.0 in /usr/local/lib/python3.10/dist-packages (from spacy<3.7.0,>=3.6.0->en-core-web-sm==3.6.0) (1.0.10)\n",
            "Requirement already satisfied: cymem<2.1.0,>=2.0.2 in /usr/local/lib/python3.10/dist-packages (from spacy<3.7.0,>=3.6.0->en-core-web-sm==3.6.0) (2.0.8)\n",
            "Requirement already satisfied: preshed<3.1.0,>=3.0.2 in /usr/local/lib/python3.10/dist-packages (from spacy<3.7.0,>=3.6.0->en-core-web-sm==3.6.0) (3.0.9)\n",
            "Requirement already satisfied: thinc<8.2.0,>=8.1.8 in /usr/local/lib/python3.10/dist-packages (from spacy<3.7.0,>=3.6.0->en-core-web-sm==3.6.0) (8.1.12)\n",
            "Requirement already satisfied: wasabi<1.2.0,>=0.9.1 in /usr/local/lib/python3.10/dist-packages (from spacy<3.7.0,>=3.6.0->en-core-web-sm==3.6.0) (1.1.2)\n",
            "Requirement already satisfied: srsly<3.0.0,>=2.4.3 in /usr/local/lib/python3.10/dist-packages (from spacy<3.7.0,>=3.6.0->en-core-web-sm==3.6.0) (2.4.8)\n",
            "Requirement already satisfied: catalogue<2.1.0,>=2.0.6 in /usr/local/lib/python3.10/dist-packages (from spacy<3.7.0,>=3.6.0->en-core-web-sm==3.6.0) (2.0.10)\n",
            "Requirement already satisfied: typer<0.10.0,>=0.3.0 in /usr/local/lib/python3.10/dist-packages (from spacy<3.7.0,>=3.6.0->en-core-web-sm==3.6.0) (0.9.0)\n",
            "Requirement already satisfied: pathy>=0.10.0 in /usr/local/lib/python3.10/dist-packages (from spacy<3.7.0,>=3.6.0->en-core-web-sm==3.6.0) (0.10.3)\n",
            "Requirement already satisfied: smart-open<7.0.0,>=5.2.1 in /usr/local/lib/python3.10/dist-packages (from spacy<3.7.0,>=3.6.0->en-core-web-sm==3.6.0) (6.4.0)\n",
            "Requirement already satisfied: tqdm<5.0.0,>=4.38.0 in /usr/local/lib/python3.10/dist-packages (from spacy<3.7.0,>=3.6.0->en-core-web-sm==3.6.0) (4.66.1)\n",
            "Requirement already satisfied: numpy>=1.15.0 in /usr/local/lib/python3.10/dist-packages (from spacy<3.7.0,>=3.6.0->en-core-web-sm==3.6.0) (1.23.5)\n",
            "Requirement already satisfied: requests<3.0.0,>=2.13.0 in /usr/local/lib/python3.10/dist-packages (from spacy<3.7.0,>=3.6.0->en-core-web-sm==3.6.0) (2.31.0)\n",
            "Requirement already satisfied: pydantic!=1.8,!=1.8.1,<3.0.0,>=1.7.4 in /usr/local/lib/python3.10/dist-packages (from spacy<3.7.0,>=3.6.0->en-core-web-sm==3.6.0) (1.10.13)\n",
            "Requirement already satisfied: jinja2 in /usr/local/lib/python3.10/dist-packages (from spacy<3.7.0,>=3.6.0->en-core-web-sm==3.6.0) (3.1.2)\n",
            "Requirement already satisfied: setuptools in /usr/local/lib/python3.10/dist-packages (from spacy<3.7.0,>=3.6.0->en-core-web-sm==3.6.0) (67.7.2)\n",
            "Requirement already satisfied: packaging>=20.0 in /usr/local/lib/python3.10/dist-packages (from spacy<3.7.0,>=3.6.0->en-core-web-sm==3.6.0) (23.2)\n",
            "Requirement already satisfied: langcodes<4.0.0,>=3.2.0 in /usr/local/lib/python3.10/dist-packages (from spacy<3.7.0,>=3.6.0->en-core-web-sm==3.6.0) (3.3.0)\n",
            "Requirement already satisfied: typing-extensions>=4.2.0 in /usr/local/lib/python3.10/dist-packages (from pydantic!=1.8,!=1.8.1,<3.0.0,>=1.7.4->spacy<3.7.0,>=3.6.0->en-core-web-sm==3.6.0) (4.5.0)\n",
            "Requirement already satisfied: charset-normalizer<4,>=2 in /usr/local/lib/python3.10/dist-packages (from requests<3.0.0,>=2.13.0->spacy<3.7.0,>=3.6.0->en-core-web-sm==3.6.0) (3.3.2)\n",
            "Requirement already satisfied: idna<4,>=2.5 in /usr/local/lib/python3.10/dist-packages (from requests<3.0.0,>=2.13.0->spacy<3.7.0,>=3.6.0->en-core-web-sm==3.6.0) (3.6)\n",
            "Requirement already satisfied: urllib3<3,>=1.21.1 in /usr/local/lib/python3.10/dist-packages (from requests<3.0.0,>=2.13.0->spacy<3.7.0,>=3.6.0->en-core-web-sm==3.6.0) (2.0.7)\n",
            "Requirement already satisfied: certifi>=2017.4.17 in /usr/local/lib/python3.10/dist-packages (from requests<3.0.0,>=2.13.0->spacy<3.7.0,>=3.6.0->en-core-web-sm==3.6.0) (2023.11.17)\n",
            "Requirement already satisfied: blis<0.8.0,>=0.7.8 in /usr/local/lib/python3.10/dist-packages (from thinc<8.2.0,>=8.1.8->spacy<3.7.0,>=3.6.0->en-core-web-sm==3.6.0) (0.7.11)\n",
            "Requirement already satisfied: confection<1.0.0,>=0.0.1 in /usr/local/lib/python3.10/dist-packages (from thinc<8.2.0,>=8.1.8->spacy<3.7.0,>=3.6.0->en-core-web-sm==3.6.0) (0.1.4)\n",
            "Requirement already satisfied: click<9.0.0,>=7.1.1 in /usr/local/lib/python3.10/dist-packages (from typer<0.10.0,>=0.3.0->spacy<3.7.0,>=3.6.0->en-core-web-sm==3.6.0) (8.1.7)\n",
            "Requirement already satisfied: MarkupSafe>=2.0 in /usr/local/lib/python3.10/dist-packages (from jinja2->spacy<3.7.0,>=3.6.0->en-core-web-sm==3.6.0) (2.1.3)\n",
            "\u001b[38;5;2m✔ Download and installation successful\u001b[0m\n",
            "You can now load the package via spacy.load('en_core_web_sm')\n"
          ]
        }
      ]
    },
    {
      "cell_type": "markdown",
      "source": [
        "After checking the structure of the dataset, an important part of pre-processing the text is to remove stopwords and lemmatize. However, I assume that because the comments are short, and because a lot of comments are made up of what can be considered stop words, removing them would affect the analysis negatively (Kedia, 2020)."
      ],
      "metadata": {
        "id": "zJmUYcMMXdMR"
      }
    },
    {
      "cell_type": "code",
      "source": [
        "# Tokenization, remove stopwords, and lemmatization\n",
        "nltk.download('punkt')\n",
        "nltk.download('stopwords')\n",
        "nltk.download('wordnet')"
      ],
      "metadata": {
        "colab": {
          "base_uri": "https://localhost:8080/"
        },
        "id": "KvgxkJ8zMTGI",
        "outputId": "f839d0d5-a22a-4813-abbb-a99f7e4efc77"
      },
      "execution_count": 12,
      "outputs": [
        {
          "output_type": "stream",
          "name": "stderr",
          "text": [
            "[nltk_data] Downloading package punkt to /root/nltk_data...\n",
            "[nltk_data]   Unzipping tokenizers/punkt.zip.\n",
            "[nltk_data] Downloading package stopwords to /root/nltk_data...\n",
            "[nltk_data]   Unzipping corpora/stopwords.zip.\n",
            "[nltk_data] Downloading package wordnet to /root/nltk_data...\n"
          ]
        },
        {
          "output_type": "execute_result",
          "data": {
            "text/plain": [
              "True"
            ]
          },
          "metadata": {},
          "execution_count": 12
        }
      ]
    },
    {
      "cell_type": "code",
      "source": [
        "stop_words = set(stopwords.words('english'))\n",
        "lemmatizer = WordNetLemmatizer()"
      ],
      "metadata": {
        "id": "QB1l6xjCMW3o"
      },
      "execution_count": 13,
      "outputs": []
    },
    {
      "cell_type": "code",
      "source": [
        "from nltk.tokenize import word_tokenize\n",
        "from nltk.corpus import stopwords\n",
        "from nltk.stem import WordNetLemmatizer\n",
        "import string\n",
        "\n",
        "# Download necessary resources to process the text\n",
        "nltk.download('punkt')\n",
        "nltk.download('stopwords')\n",
        "nltk.download('wordnet')\n",
        "\n",
        "stop_words = set(stopwords.words('english'))\n",
        "lemmatizer = WordNetLemmatizer()\n",
        "\n",
        "def preprocess_text(text):\n",
        "    # Tokenization\n",
        "    tokens = word_tokenize(text.lower())\n",
        "\n",
        "    # Remove stopwords, punctuation, and non-alphabetic tokens\n",
        "    tokens = [lemmatizer.lemmatize(token) for token in tokens if token.isalpha() and token not in stop_words]\n",
        "\n",
        "    return tokens\n"
      ],
      "metadata": {
        "colab": {
          "base_uri": "https://localhost:8080/"
        },
        "id": "wQg3w8HZoQWr",
        "outputId": "bfd8d20c-f03c-41e9-eac2-a67981603d2c"
      },
      "execution_count": 14,
      "outputs": [
        {
          "output_type": "stream",
          "name": "stderr",
          "text": [
            "[nltk_data] Downloading package punkt to /root/nltk_data...\n",
            "[nltk_data]   Package punkt is already up-to-date!\n",
            "[nltk_data] Downloading package stopwords to /root/nltk_data...\n",
            "[nltk_data]   Package stopwords is already up-to-date!\n",
            "[nltk_data] Downloading package wordnet to /root/nltk_data...\n",
            "[nltk_data]   Package wordnet is already up-to-date!\n"
          ]
        }
      ]
    },
    {
      "cell_type": "markdown",
      "source": [
        "Furthermore, I have created tokens which will be considered in the Word Cloud and topic modeling, as well as the TF-IDF and correlation analysis. Tokens are an essential part of NLP because it turns a 'document into a list of\n",
        "units' and further turns words into vectors so that the computer can read them (Kedia, 2020)."
      ],
      "metadata": {
        "id": "51CLozbMYky3"
      }
    },
    {
      "cell_type": "code",
      "source": [
        "# Applying the preprocessing function to the comments column\n",
        "df['processed_comments'] = df['text'].apply(preprocess_text)\n",
        "\n",
        "# Displaying the processed data\n",
        "print(df[['text', 'processed_comments']].head())"
      ],
      "metadata": {
        "colab": {
          "base_uri": "https://localhost:8080/"
        },
        "id": "nrY8WTRGoYNt",
        "outputId": "fa84c3e5-5712-4e12-a324-76a1d3188729"
      },
      "execution_count": 15,
      "outputs": [
        {
          "output_type": "stream",
          "name": "stdout",
          "text": [
            "                                                text  \\\n",
            "0             My broad shoulders and fat arms say no   \n",
            "1  I prefer ones from Massimo Dutti :) those are ...   \n",
            "2                 Literally went to mango and got it   \n",
            "3                                        Wait I need   \n",
            "4                                         I want it!   \n",
            "\n",
            "                    processed_comments  \n",
            "0     [broad, shoulder, fat, arm, say]  \n",
            "1  [prefer, one, massimo, dutti, fine]  \n",
            "2        [literally, went, mango, got]  \n",
            "3                         [wait, need]  \n",
            "4                               [want]  \n"
          ]
        }
      ]
    },
    {
      "cell_type": "markdown",
      "source": [
        "Creating a WordCloud is helpful in identifying the words frequency after the comments have been processed. I will proceed to display the words and their frequency in a bilinear word cloud."
      ],
      "metadata": {
        "id": "h3ibMKh8Kb1a"
      }
    },
    {
      "cell_type": "code",
      "source": [
        "pip install plotly wordcloud\n"
      ],
      "metadata": {
        "colab": {
          "base_uri": "https://localhost:8080/"
        },
        "id": "bNJA1AbTLYk8",
        "outputId": "1389fa0f-3e52-4f33-abb9-633088dbdb88"
      },
      "execution_count": 16,
      "outputs": [
        {
          "output_type": "stream",
          "name": "stdout",
          "text": [
            "Requirement already satisfied: plotly in /usr/local/lib/python3.10/dist-packages (5.15.0)\n",
            "Requirement already satisfied: wordcloud in /usr/local/lib/python3.10/dist-packages (1.9.2)\n",
            "Requirement already satisfied: tenacity>=6.2.0 in /usr/local/lib/python3.10/dist-packages (from plotly) (8.2.3)\n",
            "Requirement already satisfied: packaging in /usr/local/lib/python3.10/dist-packages (from plotly) (23.2)\n",
            "Requirement already satisfied: numpy>=1.6.1 in /usr/local/lib/python3.10/dist-packages (from wordcloud) (1.23.5)\n",
            "Requirement already satisfied: pillow in /usr/local/lib/python3.10/dist-packages (from wordcloud) (9.4.0)\n",
            "Requirement already satisfied: matplotlib in /usr/local/lib/python3.10/dist-packages (from wordcloud) (3.7.1)\n",
            "Requirement already satisfied: contourpy>=1.0.1 in /usr/local/lib/python3.10/dist-packages (from matplotlib->wordcloud) (1.2.0)\n",
            "Requirement already satisfied: cycler>=0.10 in /usr/local/lib/python3.10/dist-packages (from matplotlib->wordcloud) (0.12.1)\n",
            "Requirement already satisfied: fonttools>=4.22.0 in /usr/local/lib/python3.10/dist-packages (from matplotlib->wordcloud) (4.46.0)\n",
            "Requirement already satisfied: kiwisolver>=1.0.1 in /usr/local/lib/python3.10/dist-packages (from matplotlib->wordcloud) (1.4.5)\n",
            "Requirement already satisfied: pyparsing>=2.3.1 in /usr/local/lib/python3.10/dist-packages (from matplotlib->wordcloud) (3.1.1)\n",
            "Requirement already satisfied: python-dateutil>=2.7 in /usr/local/lib/python3.10/dist-packages (from matplotlib->wordcloud) (2.8.2)\n",
            "Requirement already satisfied: six>=1.5 in /usr/local/lib/python3.10/dist-packages (from python-dateutil>=2.7->matplotlib->wordcloud) (1.16.0)\n"
          ]
        }
      ]
    },
    {
      "cell_type": "code",
      "source": [
        "import plotly.graph_objects as go"
      ],
      "metadata": {
        "id": "r8aykf6nLeYp"
      },
      "execution_count": 17,
      "outputs": []
    },
    {
      "cell_type": "markdown",
      "source": [
        "Creating a Word Cloud also helps emphasize terms based on their frequency in the dataset. We can see that the words 'code' which indicate possible consumption because the viewers are looking for the product code to purchase the garment being promoted. Therefore, in the Word Cloud, the size of the word reflects how often it occurs. 'Code' together with 'jeans' and 'top' reflect the frequency in comments asking for the product code for the specific jeans or top."
      ],
      "metadata": {
        "id": "CD6uWimGTmIC"
      }
    },
    {
      "cell_type": "code",
      "source": [
        "from wordcloud import WordCloud\n",
        "import matplotlib.pyplot as plt"
      ],
      "metadata": {
        "id": "vesgKFnMeCry"
      },
      "execution_count": 18,
      "outputs": []
    },
    {
      "cell_type": "code",
      "source": [
        "# Flattening the list of lists in 'processed_comments'\n",
        "all_comments = ' '.join(df['processed_comments'].explode().dropna().astype(str))\n",
        "\n",
        "wordcloud = WordCloud(width=800, height=400, background_color='white').generate(all_comments)\n",
        "\n",
        "# Convert WordCloud object to Pandas DataFrame for Plotly\n",
        "word_freq_df = pd.DataFrame(wordcloud.words_.items(), columns=['word', 'frequency'])\n",
        "\n",
        "# Creating an interactive bar chart using Plotly\n",
        "fig = go.Figure(go.Bar(x=word_freq_df['word'], y=word_freq_df['frequency'], marker_color=word_freq_df['frequency'],\n",
        "                       text=word_freq_df['frequency'], textposition='outside'))\n",
        "\n",
        "# Updating layout for better readability\n",
        "fig.update_layout(title='Word Frequency', xaxis_title='Word', yaxis_title='Frequency',\n",
        "                  coloraxis_showscale=False)\n",
        "\n",
        "# Figure\n",
        "fig.show()"
      ],
      "metadata": {
        "colab": {
          "base_uri": "https://localhost:8080/",
          "height": 542
        },
        "id": "BxnxSqzEK17N",
        "outputId": "3f7c9fd9-fe76-4d11-f4d8-cee67c7cf64a"
      },
      "execution_count": 19,
      "outputs": [
        {
          "output_type": "display_data",
          "data": {
            "text/html": [
              "<html>\n",
              "<head><meta charset=\"utf-8\" /></head>\n",
              "<body>\n",
              "    <div>            <script src=\"https://cdnjs.cloudflare.com/ajax/libs/mathjax/2.7.5/MathJax.js?config=TeX-AMS-MML_SVG\"></script><script type=\"text/javascript\">if (window.MathJax && window.MathJax.Hub && window.MathJax.Hub.Config) {window.MathJax.Hub.Config({SVG: {font: \"STIX-Web\"}});}</script>                <script type=\"text/javascript\">window.PlotlyConfig = {MathJaxConfig: 'local'};</script>\n",
              "        <script charset=\"utf-8\" src=\"https://cdn.plot.ly/plotly-2.24.1.min.js\"></script>                <div id=\"d7a50853-3159-49c5-99a0-bd8c03149fd2\" class=\"plotly-graph-div\" style=\"height:525px; width:100%;\"></div>            <script type=\"text/javascript\">                                    window.PLOTLYENV=window.PLOTLYENV || {};                                    if (document.getElementById(\"d7a50853-3159-49c5-99a0-bd8c03149fd2\")) {                    Plotly.newPlot(                        \"d7a50853-3159-49c5-99a0-bd8c03149fd2\",                        [{\"marker\":{\"color\":[1.0,0.8666666666666667,0.7333333333333333,0.7333333333333333,0.7111111111111111,0.4222222222222222,0.3111111111111111,0.3111111111111111,0.3111111111111111,0.26666666666666666,0.26666666666666666,0.24444444444444444,0.24444444444444444,0.24444444444444444,0.2,0.15555555555555556,0.13333333333333333,0.13333333333333333,0.13333333333333333,0.13333333333333333,0.13333333333333333,0.1111111111111111,0.1111111111111111,0.1111111111111111,0.1111111111111111,0.08888888888888889,0.08888888888888889,0.08888888888888889,0.08888888888888889,0.08888888888888889,0.08888888888888889,0.08888888888888889,0.08888888888888889,0.08888888888888889,0.08888888888888889,0.08888888888888889,0.08888888888888889,0.08888888888888889,0.08888888888888889,0.08888888888888889,0.08888888888888889,0.08888888888888889,0.06666666666666667,0.06666666666666667,0.06666666666666667,0.06666666666666667,0.06666666666666667,0.06666666666666667,0.06666666666666667,0.06666666666666667,0.06666666666666667,0.044444444444444446,0.044444444444444446,0.044444444444444446,0.044444444444444446,0.044444444444444446,0.044444444444444446,0.044444444444444446,0.044444444444444446,0.044444444444444446,0.044444444444444446,0.044444444444444446,0.044444444444444446,0.044444444444444446,0.044444444444444446,0.044444444444444446,0.044444444444444446,0.044444444444444446,0.044444444444444446,0.044444444444444446,0.044444444444444446,0.044444444444444446,0.044444444444444446,0.044444444444444446,0.022222222222222223,0.022222222222222223,0.022222222222222223,0.022222222222222223,0.022222222222222223,0.022222222222222223,0.022222222222222223,0.022222222222222223,0.022222222222222223,0.022222222222222223,0.022222222222222223,0.022222222222222223,0.022222222222222223,0.022222222222222223,0.022222222222222223,0.022222222222222223,0.022222222222222223,0.022222222222222223,0.022222222222222223,0.022222222222222223,0.022222222222222223,0.022222222222222223,0.022222222222222223,0.022222222222222223,0.022222222222222223,0.022222222222222223,0.022222222222222223,0.022222222222222223,0.022222222222222223,0.022222222222222223,0.022222222222222223,0.022222222222222223,0.022222222222222223,0.022222222222222223,0.022222222222222223,0.022222222222222223,0.022222222222222223,0.022222222222222223,0.022222222222222223,0.022222222222222223,0.022222222222222223,0.022222222222222223,0.022222222222222223,0.022222222222222223,0.022222222222222223,0.022222222222222223,0.022222222222222223,0.022222222222222223,0.022222222222222223,0.022222222222222223,0.022222222222222223,0.022222222222222223,0.022222222222222223,0.022222222222222223,0.022222222222222223,0.022222222222222223,0.022222222222222223,0.022222222222222223,0.022222222222222223,0.022222222222222223,0.022222222222222223,0.022222222222222223,0.022222222222222223,0.022222222222222223,0.022222222222222223,0.022222222222222223,0.022222222222222223,0.022222222222222223,0.022222222222222223,0.022222222222222223,0.022222222222222223,0.022222222222222223,0.022222222222222223,0.022222222222222223,0.022222222222222223,0.022222222222222223,0.022222222222222223,0.022222222222222223,0.022222222222222223,0.022222222222222223,0.022222222222222223,0.022222222222222223,0.022222222222222223,0.022222222222222223,0.022222222222222223,0.022222222222222223,0.022222222222222223,0.022222222222222223,0.022222222222222223,0.022222222222222223,0.022222222222222223,0.022222222222222223,0.022222222222222223,0.022222222222222223,0.022222222222222223,0.022222222222222223,0.022222222222222223,0.022222222222222223,0.022222222222222223,0.022222222222222223,0.022222222222222223,0.022222222222222223,0.022222222222222223,0.022222222222222223,0.022222222222222223,0.022222222222222223,0.022222222222222223,0.022222222222222223,0.022222222222222223,0.022222222222222223,0.022222222222222223,0.022222222222222223,0.022222222222222223,0.022222222222222223,0.022222222222222223,0.022222222222222223,0.022222222222222223,0.022222222222222223,0.022222222222222223,0.022222222222222223,0.022222222222222223,0.022222222222222223,0.022222222222222223,0.022222222222222223,0.022222222222222223,0.022222222222222223]},\"text\":[1.0,0.8666666666666667,0.7333333333333333,0.7333333333333333,0.7111111111111111,0.4222222222222222,0.3111111111111111,0.3111111111111111,0.3111111111111111,0.26666666666666666,0.26666666666666666,0.24444444444444444,0.24444444444444444,0.24444444444444444,0.2,0.15555555555555556,0.13333333333333333,0.13333333333333333,0.13333333333333333,0.13333333333333333,0.13333333333333333,0.1111111111111111,0.1111111111111111,0.1111111111111111,0.1111111111111111,0.08888888888888889,0.08888888888888889,0.08888888888888889,0.08888888888888889,0.08888888888888889,0.08888888888888889,0.08888888888888889,0.08888888888888889,0.08888888888888889,0.08888888888888889,0.08888888888888889,0.08888888888888889,0.08888888888888889,0.08888888888888889,0.08888888888888889,0.08888888888888889,0.08888888888888889,0.06666666666666667,0.06666666666666667,0.06666666666666667,0.06666666666666667,0.06666666666666667,0.06666666666666667,0.06666666666666667,0.06666666666666667,0.06666666666666667,0.044444444444444446,0.044444444444444446,0.044444444444444446,0.044444444444444446,0.044444444444444446,0.044444444444444446,0.044444444444444446,0.044444444444444446,0.044444444444444446,0.044444444444444446,0.044444444444444446,0.044444444444444446,0.044444444444444446,0.044444444444444446,0.044444444444444446,0.044444444444444446,0.044444444444444446,0.044444444444444446,0.044444444444444446,0.044444444444444446,0.044444444444444446,0.044444444444444446,0.044444444444444446,0.022222222222222223,0.022222222222222223,0.022222222222222223,0.022222222222222223,0.022222222222222223,0.022222222222222223,0.022222222222222223,0.022222222222222223,0.022222222222222223,0.022222222222222223,0.022222222222222223,0.022222222222222223,0.022222222222222223,0.022222222222222223,0.022222222222222223,0.022222222222222223,0.022222222222222223,0.022222222222222223,0.022222222222222223,0.022222222222222223,0.022222222222222223,0.022222222222222223,0.022222222222222223,0.022222222222222223,0.022222222222222223,0.022222222222222223,0.022222222222222223,0.022222222222222223,0.022222222222222223,0.022222222222222223,0.022222222222222223,0.022222222222222223,0.022222222222222223,0.022222222222222223,0.022222222222222223,0.022222222222222223,0.022222222222222223,0.022222222222222223,0.022222222222222223,0.022222222222222223,0.022222222222222223,0.022222222222222223,0.022222222222222223,0.022222222222222223,0.022222222222222223,0.022222222222222223,0.022222222222222223,0.022222222222222223,0.022222222222222223,0.022222222222222223,0.022222222222222223,0.022222222222222223,0.022222222222222223,0.022222222222222223,0.022222222222222223,0.022222222222222223,0.022222222222222223,0.022222222222222223,0.022222222222222223,0.022222222222222223,0.022222222222222223,0.022222222222222223,0.022222222222222223,0.022222222222222223,0.022222222222222223,0.022222222222222223,0.022222222222222223,0.022222222222222223,0.022222222222222223,0.022222222222222223,0.022222222222222223,0.022222222222222223,0.022222222222222223,0.022222222222222223,0.022222222222222223,0.022222222222222223,0.022222222222222223,0.022222222222222223,0.022222222222222223,0.022222222222222223,0.022222222222222223,0.022222222222222223,0.022222222222222223,0.022222222222222223,0.022222222222222223,0.022222222222222223,0.022222222222222223,0.022222222222222223,0.022222222222222223,0.022222222222222223,0.022222222222222223,0.022222222222222223,0.022222222222222223,0.022222222222222223,0.022222222222222223,0.022222222222222223,0.022222222222222223,0.022222222222222223,0.022222222222222223,0.022222222222222223,0.022222222222222223,0.022222222222222223,0.022222222222222223,0.022222222222222223,0.022222222222222223,0.022222222222222223,0.022222222222222223,0.022222222222222223,0.022222222222222223,0.022222222222222223,0.022222222222222223,0.022222222222222223,0.022222222222222223,0.022222222222222223,0.022222222222222223,0.022222222222222223,0.022222222222222223,0.022222222222222223,0.022222222222222223,0.022222222222222223,0.022222222222222223,0.022222222222222223,0.022222222222222223,0.022222222222222223,0.022222222222222223,0.022222222222222223],\"textposition\":\"outside\",\"x\":[\"code\",\"jean\",\"black\",\"top\",\"first\",\"one\",\"love\",\"size\",\"please\",\"pair\",\"white top\",\"u\",\"white\",\"second\",\"last\",\"skirt\",\"need\",\"look\",\"stradivarius\",\"reference\",\"tall\",\"want\",\"backless\",\"lace\",\"wearing beginning\",\"got\",\"cream\",\"obsessed\",\"beautiful\",\"buy\",\"wearing\",\"beginning\",\"grey\",\"pant\",\"ref\",\"sleeve\",\"shirt\",\"nice\",\"pls\",\"name\",\"long\",\"outfit\",\"mango\",\"omg\",\"find\",\"fit\",\"short\",\"blue\",\"link\",\"number\",\"good\",\"broad\",\"shoulder\",\"say\",\"prefer\",\"wear\",\"make\",\"wore\",\"firts\",\"third\",\"hole\",\"low\",\"color\",\"pleaseee\",\"light\",\"wheres\",\"tell\",\"called\",\"style\",\"stunning\",\"pretty\",\"store\",\"zara\",\"take\",\"fat\",\"arm\",\"massimo\",\"dutti\",\"fine\",\"literally\",\"went\",\"wait\",\"bought\",\"running\",\"somebody\",\"must\",\"order\",\"price\",\"plz\",\"sold\",\"best\",\"excellent\",\"much\",\"ugly\",\"breast\",\"said\",\"try\",\"pipping\",\"\\u00e9cru\",\"slim\",\"lol\",\"w\",\"outline\",\"cry\",\"r\\u00e9f\",\"shein\",\"igualito\",\"referencia\",\"stradivariusing\",\"ta\",\"remind\",\"body\",\"come\",\"though\",\"hii\",\"every\",\"kidding\",\"vid\",\"colour\",\"rip\",\"selftan\",\"use\",\"haul\",\"rise\",\"high\",\"pleaseeee\",\"height\",\"allll\",\"personalisedbykavanna\",\"okay\",\"girl\",\"plis\",\"stretch\",\"te\",\"tuge\",\"way\",\"something\",\"site\",\"video\",\"soooo\",\"beige\",\"anything\",\"without\",\"needing\",\"adjustment\",\"give\",\"ordered\",\"normal\",\"none\",\"whats\",\"shop\",\"fromm\",\"ur\",\"start\",\"article\",\"option\",\"dropping\",\"collection\",\"soon\",\"gon\",\"na\",\"em\",\"al\",\"cerysssa\",\"perfect\",\"straight\",\"vintage\",\"kace\",\"sure\",\"bday\",\"list\",\"exactly\",\"post\",\"clip\",\"gigi\",\"form\",\"ex\",\"thank\",\"sharing\",\"waist\",\"panta\",\"tried\",\"strad\",\"isnt\",\"zaraing\",\"back\",\"set\",\"cod\",\"amazing\",\"sooo\",\"honney\",\"fabulous\",\"cant\",\"seems\",\"finished\",\"finally\",\"see\",\"someone\",\"share\",\"instead\"],\"y\":[1.0,0.8666666666666667,0.7333333333333333,0.7333333333333333,0.7111111111111111,0.4222222222222222,0.3111111111111111,0.3111111111111111,0.3111111111111111,0.26666666666666666,0.26666666666666666,0.24444444444444444,0.24444444444444444,0.24444444444444444,0.2,0.15555555555555556,0.13333333333333333,0.13333333333333333,0.13333333333333333,0.13333333333333333,0.13333333333333333,0.1111111111111111,0.1111111111111111,0.1111111111111111,0.1111111111111111,0.08888888888888889,0.08888888888888889,0.08888888888888889,0.08888888888888889,0.08888888888888889,0.08888888888888889,0.08888888888888889,0.08888888888888889,0.08888888888888889,0.08888888888888889,0.08888888888888889,0.08888888888888889,0.08888888888888889,0.08888888888888889,0.08888888888888889,0.08888888888888889,0.08888888888888889,0.06666666666666667,0.06666666666666667,0.06666666666666667,0.06666666666666667,0.06666666666666667,0.06666666666666667,0.06666666666666667,0.06666666666666667,0.06666666666666667,0.044444444444444446,0.044444444444444446,0.044444444444444446,0.044444444444444446,0.044444444444444446,0.044444444444444446,0.044444444444444446,0.044444444444444446,0.044444444444444446,0.044444444444444446,0.044444444444444446,0.044444444444444446,0.044444444444444446,0.044444444444444446,0.044444444444444446,0.044444444444444446,0.044444444444444446,0.044444444444444446,0.044444444444444446,0.044444444444444446,0.044444444444444446,0.044444444444444446,0.044444444444444446,0.022222222222222223,0.022222222222222223,0.022222222222222223,0.022222222222222223,0.022222222222222223,0.022222222222222223,0.022222222222222223,0.022222222222222223,0.022222222222222223,0.022222222222222223,0.022222222222222223,0.022222222222222223,0.022222222222222223,0.022222222222222223,0.022222222222222223,0.022222222222222223,0.022222222222222223,0.022222222222222223,0.022222222222222223,0.022222222222222223,0.022222222222222223,0.022222222222222223,0.022222222222222223,0.022222222222222223,0.022222222222222223,0.022222222222222223,0.022222222222222223,0.022222222222222223,0.022222222222222223,0.022222222222222223,0.022222222222222223,0.022222222222222223,0.022222222222222223,0.022222222222222223,0.022222222222222223,0.022222222222222223,0.022222222222222223,0.022222222222222223,0.022222222222222223,0.022222222222222223,0.022222222222222223,0.022222222222222223,0.022222222222222223,0.022222222222222223,0.022222222222222223,0.022222222222222223,0.022222222222222223,0.022222222222222223,0.022222222222222223,0.022222222222222223,0.022222222222222223,0.022222222222222223,0.022222222222222223,0.022222222222222223,0.022222222222222223,0.022222222222222223,0.022222222222222223,0.022222222222222223,0.022222222222222223,0.022222222222222223,0.022222222222222223,0.022222222222222223,0.022222222222222223,0.022222222222222223,0.022222222222222223,0.022222222222222223,0.022222222222222223,0.022222222222222223,0.022222222222222223,0.022222222222222223,0.022222222222222223,0.022222222222222223,0.022222222222222223,0.022222222222222223,0.022222222222222223,0.022222222222222223,0.022222222222222223,0.022222222222222223,0.022222222222222223,0.022222222222222223,0.022222222222222223,0.022222222222222223,0.022222222222222223,0.022222222222222223,0.022222222222222223,0.022222222222222223,0.022222222222222223,0.022222222222222223,0.022222222222222223,0.022222222222222223,0.022222222222222223,0.022222222222222223,0.022222222222222223,0.022222222222222223,0.022222222222222223,0.022222222222222223,0.022222222222222223,0.022222222222222223,0.022222222222222223,0.022222222222222223,0.022222222222222223,0.022222222222222223,0.022222222222222223,0.022222222222222223,0.022222222222222223,0.022222222222222223,0.022222222222222223,0.022222222222222223,0.022222222222222223,0.022222222222222223,0.022222222222222223,0.022222222222222223,0.022222222222222223,0.022222222222222223,0.022222222222222223,0.022222222222222223,0.022222222222222223,0.022222222222222223,0.022222222222222223,0.022222222222222223,0.022222222222222223,0.022222222222222223,0.022222222222222223,0.022222222222222223,0.022222222222222223,0.022222222222222223],\"type\":\"bar\"}],                        {\"template\":{\"data\":{\"histogram2dcontour\":[{\"type\":\"histogram2dcontour\",\"colorbar\":{\"outlinewidth\":0,\"ticks\":\"\"},\"colorscale\":[[0.0,\"#0d0887\"],[0.1111111111111111,\"#46039f\"],[0.2222222222222222,\"#7201a8\"],[0.3333333333333333,\"#9c179e\"],[0.4444444444444444,\"#bd3786\"],[0.5555555555555556,\"#d8576b\"],[0.6666666666666666,\"#ed7953\"],[0.7777777777777778,\"#fb9f3a\"],[0.8888888888888888,\"#fdca26\"],[1.0,\"#f0f921\"]]}],\"choropleth\":[{\"type\":\"choropleth\",\"colorbar\":{\"outlinewidth\":0,\"ticks\":\"\"}}],\"histogram2d\":[{\"type\":\"histogram2d\",\"colorbar\":{\"outlinewidth\":0,\"ticks\":\"\"},\"colorscale\":[[0.0,\"#0d0887\"],[0.1111111111111111,\"#46039f\"],[0.2222222222222222,\"#7201a8\"],[0.3333333333333333,\"#9c179e\"],[0.4444444444444444,\"#bd3786\"],[0.5555555555555556,\"#d8576b\"],[0.6666666666666666,\"#ed7953\"],[0.7777777777777778,\"#fb9f3a\"],[0.8888888888888888,\"#fdca26\"],[1.0,\"#f0f921\"]]}],\"heatmap\":[{\"type\":\"heatmap\",\"colorbar\":{\"outlinewidth\":0,\"ticks\":\"\"},\"colorscale\":[[0.0,\"#0d0887\"],[0.1111111111111111,\"#46039f\"],[0.2222222222222222,\"#7201a8\"],[0.3333333333333333,\"#9c179e\"],[0.4444444444444444,\"#bd3786\"],[0.5555555555555556,\"#d8576b\"],[0.6666666666666666,\"#ed7953\"],[0.7777777777777778,\"#fb9f3a\"],[0.8888888888888888,\"#fdca26\"],[1.0,\"#f0f921\"]]}],\"heatmapgl\":[{\"type\":\"heatmapgl\",\"colorbar\":{\"outlinewidth\":0,\"ticks\":\"\"},\"colorscale\":[[0.0,\"#0d0887\"],[0.1111111111111111,\"#46039f\"],[0.2222222222222222,\"#7201a8\"],[0.3333333333333333,\"#9c179e\"],[0.4444444444444444,\"#bd3786\"],[0.5555555555555556,\"#d8576b\"],[0.6666666666666666,\"#ed7953\"],[0.7777777777777778,\"#fb9f3a\"],[0.8888888888888888,\"#fdca26\"],[1.0,\"#f0f921\"]]}],\"contourcarpet\":[{\"type\":\"contourcarpet\",\"colorbar\":{\"outlinewidth\":0,\"ticks\":\"\"}}],\"contour\":[{\"type\":\"contour\",\"colorbar\":{\"outlinewidth\":0,\"ticks\":\"\"},\"colorscale\":[[0.0,\"#0d0887\"],[0.1111111111111111,\"#46039f\"],[0.2222222222222222,\"#7201a8\"],[0.3333333333333333,\"#9c179e\"],[0.4444444444444444,\"#bd3786\"],[0.5555555555555556,\"#d8576b\"],[0.6666666666666666,\"#ed7953\"],[0.7777777777777778,\"#fb9f3a\"],[0.8888888888888888,\"#fdca26\"],[1.0,\"#f0f921\"]]}],\"surface\":[{\"type\":\"surface\",\"colorbar\":{\"outlinewidth\":0,\"ticks\":\"\"},\"colorscale\":[[0.0,\"#0d0887\"],[0.1111111111111111,\"#46039f\"],[0.2222222222222222,\"#7201a8\"],[0.3333333333333333,\"#9c179e\"],[0.4444444444444444,\"#bd3786\"],[0.5555555555555556,\"#d8576b\"],[0.6666666666666666,\"#ed7953\"],[0.7777777777777778,\"#fb9f3a\"],[0.8888888888888888,\"#fdca26\"],[1.0,\"#f0f921\"]]}],\"mesh3d\":[{\"type\":\"mesh3d\",\"colorbar\":{\"outlinewidth\":0,\"ticks\":\"\"}}],\"scatter\":[{\"fillpattern\":{\"fillmode\":\"overlay\",\"size\":10,\"solidity\":0.2},\"type\":\"scatter\"}],\"parcoords\":[{\"type\":\"parcoords\",\"line\":{\"colorbar\":{\"outlinewidth\":0,\"ticks\":\"\"}}}],\"scatterpolargl\":[{\"type\":\"scatterpolargl\",\"marker\":{\"colorbar\":{\"outlinewidth\":0,\"ticks\":\"\"}}}],\"bar\":[{\"error_x\":{\"color\":\"#2a3f5f\"},\"error_y\":{\"color\":\"#2a3f5f\"},\"marker\":{\"line\":{\"color\":\"#E5ECF6\",\"width\":0.5},\"pattern\":{\"fillmode\":\"overlay\",\"size\":10,\"solidity\":0.2}},\"type\":\"bar\"}],\"scattergeo\":[{\"type\":\"scattergeo\",\"marker\":{\"colorbar\":{\"outlinewidth\":0,\"ticks\":\"\"}}}],\"scatterpolar\":[{\"type\":\"scatterpolar\",\"marker\":{\"colorbar\":{\"outlinewidth\":0,\"ticks\":\"\"}}}],\"histogram\":[{\"marker\":{\"pattern\":{\"fillmode\":\"overlay\",\"size\":10,\"solidity\":0.2}},\"type\":\"histogram\"}],\"scattergl\":[{\"type\":\"scattergl\",\"marker\":{\"colorbar\":{\"outlinewidth\":0,\"ticks\":\"\"}}}],\"scatter3d\":[{\"type\":\"scatter3d\",\"line\":{\"colorbar\":{\"outlinewidth\":0,\"ticks\":\"\"}},\"marker\":{\"colorbar\":{\"outlinewidth\":0,\"ticks\":\"\"}}}],\"scattermapbox\":[{\"type\":\"scattermapbox\",\"marker\":{\"colorbar\":{\"outlinewidth\":0,\"ticks\":\"\"}}}],\"scatterternary\":[{\"type\":\"scatterternary\",\"marker\":{\"colorbar\":{\"outlinewidth\":0,\"ticks\":\"\"}}}],\"scattercarpet\":[{\"type\":\"scattercarpet\",\"marker\":{\"colorbar\":{\"outlinewidth\":0,\"ticks\":\"\"}}}],\"carpet\":[{\"aaxis\":{\"endlinecolor\":\"#2a3f5f\",\"gridcolor\":\"white\",\"linecolor\":\"white\",\"minorgridcolor\":\"white\",\"startlinecolor\":\"#2a3f5f\"},\"baxis\":{\"endlinecolor\":\"#2a3f5f\",\"gridcolor\":\"white\",\"linecolor\":\"white\",\"minorgridcolor\":\"white\",\"startlinecolor\":\"#2a3f5f\"},\"type\":\"carpet\"}],\"table\":[{\"cells\":{\"fill\":{\"color\":\"#EBF0F8\"},\"line\":{\"color\":\"white\"}},\"header\":{\"fill\":{\"color\":\"#C8D4E3\"},\"line\":{\"color\":\"white\"}},\"type\":\"table\"}],\"barpolar\":[{\"marker\":{\"line\":{\"color\":\"#E5ECF6\",\"width\":0.5},\"pattern\":{\"fillmode\":\"overlay\",\"size\":10,\"solidity\":0.2}},\"type\":\"barpolar\"}],\"pie\":[{\"automargin\":true,\"type\":\"pie\"}]},\"layout\":{\"autotypenumbers\":\"strict\",\"colorway\":[\"#636efa\",\"#EF553B\",\"#00cc96\",\"#ab63fa\",\"#FFA15A\",\"#19d3f3\",\"#FF6692\",\"#B6E880\",\"#FF97FF\",\"#FECB52\"],\"font\":{\"color\":\"#2a3f5f\"},\"hovermode\":\"closest\",\"hoverlabel\":{\"align\":\"left\"},\"paper_bgcolor\":\"white\",\"plot_bgcolor\":\"#E5ECF6\",\"polar\":{\"bgcolor\":\"#E5ECF6\",\"angularaxis\":{\"gridcolor\":\"white\",\"linecolor\":\"white\",\"ticks\":\"\"},\"radialaxis\":{\"gridcolor\":\"white\",\"linecolor\":\"white\",\"ticks\":\"\"}},\"ternary\":{\"bgcolor\":\"#E5ECF6\",\"aaxis\":{\"gridcolor\":\"white\",\"linecolor\":\"white\",\"ticks\":\"\"},\"baxis\":{\"gridcolor\":\"white\",\"linecolor\":\"white\",\"ticks\":\"\"},\"caxis\":{\"gridcolor\":\"white\",\"linecolor\":\"white\",\"ticks\":\"\"}},\"coloraxis\":{\"colorbar\":{\"outlinewidth\":0,\"ticks\":\"\"}},\"colorscale\":{\"sequential\":[[0.0,\"#0d0887\"],[0.1111111111111111,\"#46039f\"],[0.2222222222222222,\"#7201a8\"],[0.3333333333333333,\"#9c179e\"],[0.4444444444444444,\"#bd3786\"],[0.5555555555555556,\"#d8576b\"],[0.6666666666666666,\"#ed7953\"],[0.7777777777777778,\"#fb9f3a\"],[0.8888888888888888,\"#fdca26\"],[1.0,\"#f0f921\"]],\"sequentialminus\":[[0.0,\"#0d0887\"],[0.1111111111111111,\"#46039f\"],[0.2222222222222222,\"#7201a8\"],[0.3333333333333333,\"#9c179e\"],[0.4444444444444444,\"#bd3786\"],[0.5555555555555556,\"#d8576b\"],[0.6666666666666666,\"#ed7953\"],[0.7777777777777778,\"#fb9f3a\"],[0.8888888888888888,\"#fdca26\"],[1.0,\"#f0f921\"]],\"diverging\":[[0,\"#8e0152\"],[0.1,\"#c51b7d\"],[0.2,\"#de77ae\"],[0.3,\"#f1b6da\"],[0.4,\"#fde0ef\"],[0.5,\"#f7f7f7\"],[0.6,\"#e6f5d0\"],[0.7,\"#b8e186\"],[0.8,\"#7fbc41\"],[0.9,\"#4d9221\"],[1,\"#276419\"]]},\"xaxis\":{\"gridcolor\":\"white\",\"linecolor\":\"white\",\"ticks\":\"\",\"title\":{\"standoff\":15},\"zerolinecolor\":\"white\",\"automargin\":true,\"zerolinewidth\":2},\"yaxis\":{\"gridcolor\":\"white\",\"linecolor\":\"white\",\"ticks\":\"\",\"title\":{\"standoff\":15},\"zerolinecolor\":\"white\",\"automargin\":true,\"zerolinewidth\":2},\"scene\":{\"xaxis\":{\"backgroundcolor\":\"#E5ECF6\",\"gridcolor\":\"white\",\"linecolor\":\"white\",\"showbackground\":true,\"ticks\":\"\",\"zerolinecolor\":\"white\",\"gridwidth\":2},\"yaxis\":{\"backgroundcolor\":\"#E5ECF6\",\"gridcolor\":\"white\",\"linecolor\":\"white\",\"showbackground\":true,\"ticks\":\"\",\"zerolinecolor\":\"white\",\"gridwidth\":2},\"zaxis\":{\"backgroundcolor\":\"#E5ECF6\",\"gridcolor\":\"white\",\"linecolor\":\"white\",\"showbackground\":true,\"ticks\":\"\",\"zerolinecolor\":\"white\",\"gridwidth\":2}},\"shapedefaults\":{\"line\":{\"color\":\"#2a3f5f\"}},\"annotationdefaults\":{\"arrowcolor\":\"#2a3f5f\",\"arrowhead\":0,\"arrowwidth\":1},\"geo\":{\"bgcolor\":\"white\",\"landcolor\":\"#E5ECF6\",\"subunitcolor\":\"white\",\"showland\":true,\"showlakes\":true,\"lakecolor\":\"white\"},\"title\":{\"x\":0.05},\"mapbox\":{\"style\":\"light\"}}},\"coloraxis\":{\"showscale\":false},\"title\":{\"text\":\"Word Frequency\"},\"xaxis\":{\"title\":{\"text\":\"Word\"}},\"yaxis\":{\"title\":{\"text\":\"Frequency\"}}},                        {\"responsive\": true}                    ).then(function(){\n",
              "                            \n",
              "var gd = document.getElementById('d7a50853-3159-49c5-99a0-bd8c03149fd2');\n",
              "var x = new MutationObserver(function (mutations, observer) {{\n",
              "        var display = window.getComputedStyle(gd).display;\n",
              "        if (!display || display === 'none') {{\n",
              "            console.log([gd, 'removed!']);\n",
              "            Plotly.purge(gd);\n",
              "            observer.disconnect();\n",
              "        }}\n",
              "}});\n",
              "\n",
              "// Listen for the removal of the full notebook cells\n",
              "var notebookContainer = gd.closest('#notebook-container');\n",
              "if (notebookContainer) {{\n",
              "    x.observe(notebookContainer, {childList: true});\n",
              "}}\n",
              "\n",
              "// Listen for the clearing of the current output cell\n",
              "var outputEl = gd.closest('.output');\n",
              "if (outputEl) {{\n",
              "    x.observe(outputEl, {childList: true});\n",
              "}}\n",
              "\n",
              "                        })                };                            </script>        </div>\n",
              "</body>\n",
              "</html>"
            ]
          },
          "metadata": {}
        }
      ]
    },
    {
      "cell_type": "markdown",
      "source": [
        "Furthermore, I hav decided to perform topic modelling after creating the Word Cloud. Therefore, proceeded to create a BagOfWords. Having a BoW is important for topic modeling (Kedia, 2020). At the same time the BoWs strengthens the investigation that some words are more frequent then others. However, an interesting observation is that as we can see, in the Word Cloud the word 'code' is the most frequent one and in the Bag of Words the word 'code' comes second, after the word 'top'."
      ],
      "metadata": {
        "id": "IlhHFVLimqas"
      }
    },
    {
      "cell_type": "code",
      "source": [
        "from sklearn.feature_extraction.text import CountVectorizer\n",
        "\n",
        "# Create a CountVectorizer instance\n",
        "vectorizer = CountVectorizer()\n",
        "\n",
        "# Fit and transform the comments into a Bag of Words matrix\n",
        "bow_matrix = vectorizer.fit_transform(df['processed_comments'].apply(lambda x: ' '.join(x)))\n",
        "\n",
        "# Convert the matrix to a DataFrame for better inspection\n",
        "bow_df = pd.DataFrame(bow_matrix.toarray(), columns=vectorizer.get_feature_names_out())\n"
      ],
      "metadata": {
        "id": "tDAN724tnTGF"
      },
      "execution_count": 20,
      "outputs": []
    },
    {
      "cell_type": "code",
      "source": [
        "top_words = bow_df.sum(axis=0).sort_values(ascending=False).head(20)\n",
        "\n",
        "plt.figure(figsize=(10, 6))\n",
        "top_words.plot(kind='bar', color='skyblue')\n",
        "plt.title('Top 20 Words in Bag of Words')\n",
        "plt.xlabel('Words')\n",
        "plt.ylabel('Frequency')\n",
        "plt.show()\n"
      ],
      "metadata": {
        "colab": {
          "base_uri": "https://localhost:8080/",
          "height": 632
        },
        "id": "CpSkrUyYovmU",
        "outputId": "4cfd976a-c455-4466-c72e-248a0d8820ce"
      },
      "execution_count": 21,
      "outputs": [
        {
          "output_type": "display_data",
          "data": {
            "text/plain": [
              "<Figure size 1000x600 with 1 Axes>"
            ],
            "image/png": "[encoded data removed]"
          },
          "metadata": {}
        }
      ]
    },
    {
      "cell_type": "markdown",
      "source": [
        "Topic modeling"
      ],
      "metadata": {
        "id": "x8HAcVOlaoHf"
      }
    },
    {
      "cell_type": "code",
      "source": [
        "from gensim import corpora, models\n",
        "from pprint import pprint\n",
        "\n",
        "# Convert the Bag of Words matrix to a gensim corpus\n",
        "corpus = [list(zip(range(len(bow_df.columns)), count)) for count in bow_df.values]\n",
        "\n",
        "# Create a gensim dictionary mapping word IDs to words\n",
        "dictionary = corpora.Dictionary.from_corpus(corpus, id2word=dict(enumerate(bow_df.columns)))\n",
        "\n",
        "# Build the LDA model\n",
        "lda_model = models.LdaModel(corpus, num_topics=2, id2word=dict(enumerate(bow_df.columns)), passes=15)\n",
        "\n",
        "# Print the topics\n",
        "pprint(lda_model.print_topics())\n"
      ],
      "metadata": {
        "colab": {
          "base_uri": "https://localhost:8080/"
        },
        "id": "eUFDVmDYo6M5",
        "outputId": "bce1a0db-ed4a-4258-c29a-43ad66ccddca"
      },
      "execution_count": 22,
      "outputs": [
        {
          "output_type": "stream",
          "name": "stdout",
          "text": [
            "[(0,\n",
            "  '0.083*\"jean\" + 0.066*\"code\" + 0.052*\"first\" + 0.041*\"one\" + 0.028*\"black\" + '\n",
            "  '0.023*\"pair\" + 0.023*\"love\" + 0.020*\"last\" + 0.019*\"wearing\" + '\n",
            "  '0.016*\"beginning\"'),\n",
            " (1,\n",
            "  '0.111*\"top\" + 0.057*\"white\" + 0.051*\"black\" + 0.037*\"code\" + 0.024*\"size\" + '\n",
            "  '0.021*\"first\" + 0.020*\"please\" + 0.018*\"skirt\" + 0.016*\"need\" + '\n",
            "  '0.016*\"tall\"')]\n"
          ]
        }
      ]
    },
    {
      "cell_type": "code",
      "source": [
        "import seaborn as sns\n",
        "\n",
        "# Function to display bar chart for a given topic\n",
        "def display_top_words_bar_chart(topic_words, topic_number, num_words=10):\n",
        "    sorted_words = sorted(topic_words.items(), key=lambda x: x[1], reverse=True)\n",
        "\n",
        "    # Extract words and scores\n",
        "    words, scores = zip(*sorted_words[:num_words])\n",
        "\n",
        "    # Create a DataFrame for better plotting\n",
        "    df = pd.DataFrame({'Word': words, 'Frequency': scores})\n",
        "\n",
        "    # Plot the bar chart\n",
        "    plt.figure(figsize=(10, 6))\n",
        "    sns.barplot(x='Frequency', y='Word', data=df, palette='viridis')\n",
        "    plt.title(f'Top Words in Topic {topic_number}')\n",
        "    plt.xlabel('Word Frequency')\n",
        "    plt.ylabel('Words')\n",
        "    plt.show()\n",
        "\n",
        "# Iterate through topics and display bar charts\n",
        "for topic_number in range(lda_model.num_topics):\n",
        "    topic_words = dict(lda_model.show_topic(topic_number))\n",
        "    display_top_words_bar_chart(topic_words, topic_number)\n"
      ],
      "metadata": {
        "colab": {
          "base_uri": "https://localhost:8080/",
          "height": 1000
        },
        "id": "Gu1Q7QvWuW1W",
        "outputId": "f80b8092-1a51-446b-d0bc-1032ce593bd3"
      },
      "execution_count": 23,
      "outputs": [
        {
          "output_type": "display_data",
          "data": {
            "text/plain": [
              "<Figure size 1000x600 with 1 Axes>"
            ],
            "image/png": "[encoded data removed]"
          },
          "metadata": {}
        },
        {
          "output_type": "display_data",
          "data": {
            "text/plain": [
              "<Figure size 1000x600 with 1 Axes>"
            ],
            "image/png": "[encoded data removed]"
          },
          "metadata": {}
        }
      ]
    },
    {
      "cell_type": "markdown",
      "source": [
        "Both topics seem to revolve around the fashion items and the codes. I would interpret the topics as the first one expresses more practicle discussions related to the fashion items while the second topic ephasizes the love for the fashion items and discussions about wanting the specific items involving looks and mentions of how tall someone might be. The initial assumption was that the topics will capture also more negative comments, yet that did not happen because the frequency of negative words is too small. Which is also why sentiment analysis might not be a good fit for this project."
      ],
      "metadata": {
        "id": "Kayid-3rdVhY"
      }
    },
    {
      "cell_type": "markdown",
      "source": [
        "Furthermore, I am going to perform a TF-IDF analysis to compare the results between the TF-IDF, the WordCloud and the Bag of Words. TF-IDF is ultimately used to weighten the importance of the words. The TF measures how often a term occurs, while the IDF measures the importance (Kedia, 2020, p. 85).\n"
      ],
      "metadata": {
        "id": "aFYAqsvEQqkV"
      }
    },
    {
      "cell_type": "code",
      "source": [
        "from sklearn.feature_extraction.text import TfidfVectorizer"
      ],
      "metadata": {
        "id": "lUWi3TGGNcoZ"
      },
      "execution_count": 24,
      "outputs": []
    },
    {
      "cell_type": "code",
      "source": [
        "# Create a TF-IDF vectorizer\n",
        "tfidf_vectorizer = TfidfVectorizer(stop_words='english', max_features=5000)"
      ],
      "metadata": {
        "id": "wUc4U3XINZkV"
      },
      "execution_count": 25,
      "outputs": []
    },
    {
      "cell_type": "code",
      "source": [
        "# Fit and transform the text data\n",
        "tfidf_matrix = tfidf_vectorizer.fit_transform(df['text'])"
      ],
      "metadata": {
        "id": "5wrKvrt5NgLJ"
      },
      "execution_count": 26,
      "outputs": []
    },
    {
      "cell_type": "code",
      "source": [
        "# Convert the TF-IDF matrix to a DataFrame\n",
        "tfidf_df = pd.DataFrame(tfidf_matrix.toarray(), columns=tfidf_vectorizer.get_feature_names_out())\n"
      ],
      "metadata": {
        "id": "bTPFGc6YNirU"
      },
      "execution_count": 27,
      "outputs": []
    },
    {
      "cell_type": "code",
      "source": [
        "# Display the TF-IDF DataFrame\n",
        "print(tfidf_df.head())"
      ],
      "metadata": {
        "colab": {
          "base_uri": "https://localhost:8080/"
        },
        "id": "tfdlgZskNlzJ",
        "outputId": "50c29df9-2bb2-41cc-dcd2-17aa8835ba51"
      },
      "execution_count": 28,
      "outputs": [
        {
          "output_type": "stream",
          "name": "stdout",
          "text": [
            "   15606413  2nd  3rd  57013783  absolutely  adjustments   al  allll  amazing  \\\n",
            "0       0.0  0.0  0.0       0.0         0.0          0.0  0.0    0.0      0.0   \n",
            "1       0.0  0.0  0.0       0.0         0.0          0.0  0.0    0.0      0.0   \n",
            "2       0.0  0.0  0.0       0.0         0.0          0.0  0.0    0.0      0.0   \n",
            "3       0.0  0.0  0.0       0.0         0.0          0.0  0.0    0.0      0.0   \n",
            "4       0.0  0.0  0.0       0.0         0.0          0.0  0.0    0.0      0.0   \n",
            "\n",
            "   amy  ...  wearing      went  whats  wheres  white  wore  youre  zara  \\\n",
            "0  0.0  ...      0.0  0.000000    0.0     0.0    0.0   0.0    0.0   0.0   \n",
            "1  0.0  ...      0.0  0.000000    0.0     0.0    0.0   0.0    0.0   0.0   \n",
            "2  0.0  ...      0.0  0.531656    0.0     0.0    0.0   0.0    0.0   0.0   \n",
            "3  0.0  ...      0.0  0.000000    0.0     0.0    0.0   0.0    0.0   0.0   \n",
            "4  0.0  ...      0.0  0.000000    0.0     0.0    0.0   0.0    0.0   0.0   \n",
            "\n",
            "   zaraing  écru  \n",
            "0      0.0   0.0  \n",
            "1      0.0   0.0  \n",
            "2      0.0   0.0  \n",
            "3      0.0   0.0  \n",
            "4      0.0   0.0  \n",
            "\n",
            "[5 rows x 217 columns]\n"
          ]
        }
      ]
    },
    {
      "cell_type": "code",
      "source": [
        "print(df['text'].head())"
      ],
      "metadata": {
        "colab": {
          "base_uri": "https://localhost:8080/"
        },
        "id": "ndu2day0N1qU",
        "outputId": "946f5600-3590-40b9-b6d7-520d603285c8"
      },
      "execution_count": 29,
      "outputs": [
        {
          "output_type": "stream",
          "name": "stdout",
          "text": [
            "0               My broad shoulders and fat arms say no\n",
            "1    I prefer ones from Massimo Dutti :) those are ...\n",
            "2                   Literally went to mango and got it\n",
            "3                                          Wait I need\n",
            "4                                           I want it!\n",
            "Name: text, dtype: object\n"
          ]
        }
      ]
    },
    {
      "cell_type": "code",
      "source": [
        "print(df['text'].isnull().sum())"
      ],
      "metadata": {
        "colab": {
          "base_uri": "https://localhost:8080/"
        },
        "id": "942yB1NhN362",
        "outputId": "7d97ac74-0ebe-4150-8076-b75caa2c60ed"
      },
      "execution_count": 30,
      "outputs": [
        {
          "output_type": "stream",
          "name": "stdout",
          "text": [
            "0\n"
          ]
        }
      ]
    },
    {
      "cell_type": "code",
      "source": [
        "print(tfidf_vectorizer.get_feature_names_out())"
      ],
      "metadata": {
        "colab": {
          "base_uri": "https://localhost:8080/"
        },
        "id": "xJjZ1CGROHH6",
        "outputId": "0ae2038b-7301-4a67-eae6-22bc743dfc87"
      },
      "execution_count": 31,
      "outputs": [
        {
          "output_type": "stream",
          "name": "stdout",
          "text": [
            "['15606413' '2nd' '3rd' '57013783' 'absolutely' 'adjustments' 'al' 'allll'\n",
            " 'amazing' 'amy' 'arms' 'article' 'babe' 'backless' 'bday' 'beautiful'\n",
            " 'beginning' 'beige' 'best' 'black' 'blue' 'body' 'bought' 'bow' 'brand'\n",
            " 'breast' 'broad' 'buy' 'called' 'cerysssa' 'clip' 'cod' 'code' 'codes'\n",
            " 'codessss' 'collection' 'color' 'colors' 'colour' 'come' 'cream' 'cute'\n",
            " 'd92' 'd98' 'did' 'does' 'don' 'dropping' 'dutti' 'em' 'ex' 'exactly'\n",
            " 'excellent' 'fabulous' 'fat' 'finally' 'fine' 'finished' 'firts' 'fit'\n",
            " 'force' 'form' 'fromm' 'gigi' 'girls' 'gonna' 'good' 'gorgeous' 'got'\n",
            " 'gotta' 'grey' 'haul' 'height' 'high' 'hii' 'hole' 'honney' 'igualito'\n",
            " 'instead' 'isn' 'isnt' 'jean' 'jeans' 'just' 'kace' 'kidding' 'lace'\n",
            " 'leanne' 'light' 'link' 'links' 'list' 'literally' 'lol' 'long' 'look'\n",
            " 'looks' 'love' 'low' 'make' 'mango' 'massimo' 'model' 'mom' 'names'\n",
            " 'need' 'needing' 'nice' 'normal' 'number' 'numbers' 'obsessed' 'okay'\n",
            " 'omg' 'ones' 'options' 'order' 'ordered' 'outfit' 'outfits' 'outline'\n",
            " 'pair' 'pairs' 'panta' 'pants' 'perfect' 'personalisedbykavanna'\n",
            " 'pipping' 'plant94' 'pleaseee' 'pleaseeee' 'plis' 'pls' 'plsssssss' 'plz'\n",
            " 'post' 'prefer' 'pretty' 'price' 'product' 'ps' 'quality' 'ref'\n",
            " 'reference' 'references' 'referencia' 'remind' 'rip' 'rise' 'running'\n",
            " 'réf' 'said' 'saw' 'say' 'second' 'selftan' 'set' 'share' 'sharing'\n",
            " 'shein' 'shirt' 'shop' 'short' 'shoulders' 'site' 'size' 'sizes' 'skirt'\n",
            " 'sleeve' 'slim' 'sold' 'somebody' 'soon' 'sooo' 'soooo' 'start' 'store'\n",
            " 'storefront' 'strad' 'stradivarius' 'stradivariusing' 'straight'\n",
            " 'stretch' 'stunning' 'style' 'sure' 'tall' 'te' 'tell' 'thank' 'topp'\n",
            " 'tops' 'tried' 'try' 'trying' 'tuge' 'ugly' 'ur' 'use' 'vid' 'video'\n",
            " 'vintage' 'waist' 'wait' 'want' 'way' 'wear' 'wearing' 'went' 'whats'\n",
            " 'wheres' 'white' 'wore' 'youre' 'zara' 'zaraing' 'écru']\n"
          ]
        }
      ]
    },
    {
      "cell_type": "code",
      "source": [
        "print(df['text'].head())"
      ],
      "metadata": {
        "colab": {
          "base_uri": "https://localhost:8080/"
        },
        "id": "4rjY_ycBOMwp",
        "outputId": "8416692c-9c2e-4c0a-c6c2-48c9554388a9"
      },
      "execution_count": 32,
      "outputs": [
        {
          "output_type": "stream",
          "name": "stdout",
          "text": [
            "0               My broad shoulders and fat arms say no\n",
            "1    I prefer ones from Massimo Dutti :) those are ...\n",
            "2                   Literally went to mango and got it\n",
            "3                                          Wait I need\n",
            "4                                           I want it!\n",
            "Name: text, dtype: object\n"
          ]
        }
      ]
    },
    {
      "cell_type": "code",
      "source": [
        "df['text'] = df['text'].str.strip()"
      ],
      "metadata": {
        "id": "xnCHy5vwOQpd"
      },
      "execution_count": 33,
      "outputs": []
    },
    {
      "cell_type": "code",
      "source": [
        "small_subset = df['text'].head(200)\n",
        "tfidf_matrix = tfidf_vectorizer.fit_transform(small_subset)\n",
        "tfidf_df = pd.DataFrame(tfidf_matrix.toarray(), columns=tfidf_vectorizer.get_feature_names_out())\n",
        "print(tfidf_df)"
      ],
      "metadata": {
        "colab": {
          "base_uri": "https://localhost:8080/"
        },
        "id": "86jg0ejUOTWA",
        "outputId": "9bb9852d-6458-4706-904f-04955732ef9a"
      },
      "execution_count": 34,
      "outputs": [
        {
          "output_type": "stream",
          "name": "stdout",
          "text": [
            "     15606413  2nd  3rd  57013783  absolutely  adjustments   al  allll  \\\n",
            "0         0.0  0.0  0.0       0.0         0.0          0.0  0.0    0.0   \n",
            "1         0.0  0.0  0.0       0.0         0.0          0.0  0.0    0.0   \n",
            "2         0.0  0.0  0.0       0.0         0.0          0.0  0.0    0.0   \n",
            "3         0.0  0.0  0.0       0.0         0.0          0.0  0.0    0.0   \n",
            "4         0.0  0.0  0.0       0.0         0.0          0.0  0.0    0.0   \n",
            "..        ...  ...  ...       ...         ...          ...  ...    ...   \n",
            "195       0.0  0.0  0.0       0.0         0.0          0.0  0.0    0.0   \n",
            "196       0.0  0.0  0.0       0.0         0.0          0.0  0.0    0.0   \n",
            "197       0.0  0.0  0.0       0.0         0.0          0.0  0.0    0.0   \n",
            "198       0.0  0.0  0.0       0.0         0.0          0.0  0.0    0.0   \n",
            "199       0.0  0.0  0.0       0.0         0.0          0.0  0.0    0.0   \n",
            "\n",
            "     amazing  amy  ...  wearing     went  whats  wheres   white  wore  youre  \\\n",
            "0        0.0  0.0  ...      0.0  0.00000    0.0     0.0  0.0000   0.0    0.0   \n",
            "1        0.0  0.0  ...      0.0  0.00000    0.0     0.0  0.0000   0.0    0.0   \n",
            "2        0.0  0.0  ...      0.0  0.53177    0.0     0.0  0.0000   0.0    0.0   \n",
            "3        0.0  0.0  ...      0.0  0.00000    0.0     0.0  0.0000   0.0    0.0   \n",
            "4        0.0  0.0  ...      0.0  0.00000    0.0     0.0  0.0000   0.0    0.0   \n",
            "..       ...  ...  ...      ...      ...    ...     ...     ...   ...    ...   \n",
            "195      0.0  0.0  ...      0.0  0.00000    0.0     0.0  0.0000   0.0    0.0   \n",
            "196      0.0  0.0  ...      0.0  0.00000    0.0     0.0  0.0000   0.0    0.0   \n",
            "197      0.0  0.0  ...      0.0  0.00000    0.0     0.0  0.0000   0.0    0.0   \n",
            "198      0.0  0.0  ...      0.0  0.00000    0.0     0.0  0.5591   0.0    0.0   \n",
            "199      0.0  0.0  ...      0.0  0.00000    0.0     0.0  0.0000   0.0    0.0   \n",
            "\n",
            "     zara  zaraing  écru  \n",
            "0     0.0      0.0   0.0  \n",
            "1     0.0      0.0   0.0  \n",
            "2     0.0      0.0   0.0  \n",
            "3     0.0      0.0   0.0  \n",
            "4     0.0      0.0   0.0  \n",
            "..    ...      ...   ...  \n",
            "195   0.0      0.0   0.0  \n",
            "196   0.0      0.0   0.0  \n",
            "197   0.0      0.0   0.0  \n",
            "198   0.0      0.0   0.0  \n",
            "199   0.0      0.0   0.0  \n",
            "\n",
            "[200 rows x 216 columns]\n"
          ]
        }
      ]
    },
    {
      "cell_type": "code",
      "source": [
        "# Find the most important terms for each document\n",
        "most_important_terms = tfidf_df.idxmax(axis=1)\n",
        "print(most_important_terms)"
      ],
      "metadata": {
        "colab": {
          "base_uri": "https://localhost:8080/"
        },
        "id": "kNNyjohKOquH",
        "outputId": "7d397aee-385f-45b0-d32c-5b36b3064488"
      },
      "execution_count": 35,
      "outputs": [
        {
          "output_type": "stream",
          "name": "stdout",
          "text": [
            "0           arms\n",
            "1          dutti\n",
            "2      literally\n",
            "3           wait\n",
            "4           want\n",
            "         ...    \n",
            "195       second\n",
            "196     15606413\n",
            "197          bow\n",
            "198         size\n",
            "199     gorgeous\n",
            "Length: 200, dtype: object\n"
          ]
        }
      ]
    },
    {
      "cell_type": "code",
      "source": [
        "# Sum the TF-IDF scores for each term\n",
        "term_frequency = tfidf_df.sum(axis=0)\n",
        "print(term_frequency.sort_values(ascending=False))"
      ],
      "metadata": {
        "colab": {
          "base_uri": "https://localhost:8080/"
        },
        "id": "Toa7X8i7OuU6",
        "outputId": "857ee4d1-0d69-443f-d2f0-6f40ceab98af"
      },
      "execution_count": 36,
      "outputs": [
        {
          "output_type": "stream",
          "name": "stdout",
          "text": [
            "code          21.303615\n",
            "jeans         15.209000\n",
            "black         14.765434\n",
            "white         10.844539\n",
            "love           8.000475\n",
            "                ...    \n",
            "trying         0.319585\n",
            "brand          0.319585\n",
            "product        0.319585\n",
            "share          0.319585\n",
            "storefront     0.319585\n",
            "Length: 216, dtype: float64\n"
          ]
        }
      ]
    },
    {
      "cell_type": "code",
      "source": [
        "import matplotlib.pyplot as plt\n",
        "import seaborn as sns"
      ],
      "metadata": {
        "id": "d0SrAuZ1OzCv"
      },
      "execution_count": 37,
      "outputs": []
    },
    {
      "cell_type": "code",
      "source": [
        "import pandas as pd\n",
        "\n",
        "term_frequency = term_frequency.sort_values(ascending=False)  # Sort the series by TF-IDF scores\n",
        "\n",
        "# Convert the series to a DataFrame\n",
        "top_terms_df = pd.DataFrame({'Term': term_frequency.index, 'TF-IDF Score': term_frequency.values})\n",
        "\n",
        "# Display the DataFrame\n",
        "print(top_terms_df.head())\n",
        "\n",
        "import plotly.express as px\n",
        "\n",
        "# Plot using Plotly Express\n",
        "fig = px.bar(top_terms_df, x='TF-IDF Score', y='Term', orientation='h', title='Top Terms by Frequency')\n",
        "fig.show()\n"
      ],
      "metadata": {
        "colab": {
          "base_uri": "https://localhost:8080/",
          "height": 646
        },
        "id": "tVVzIGM_Rafu",
        "outputId": "45b30a74-4f8e-42d3-e3ef-c0363772c351"
      },
      "execution_count": 41,
      "outputs": [
        {
          "output_type": "stream",
          "name": "stdout",
          "text": [
            "    Term  TF-IDF Score\n",
            "0   code     21.303615\n",
            "1  jeans     15.209000\n",
            "2  black     14.765434\n",
            "3  white     10.844539\n",
            "4   love      8.000475\n"
          ]
        },
        {
          "output_type": "display_data",
          "data": {
            "text/html": [
              "<html>\n",
              "<head><meta charset=\"utf-8\" /></head>\n",
              "<body>\n",
              "    <div>            <script src=\"https://cdnjs.cloudflare.com/ajax/libs/mathjax/2.7.5/MathJax.js?config=TeX-AMS-MML_SVG\"></script><script type=\"text/javascript\">if (window.MathJax && window.MathJax.Hub && window.MathJax.Hub.Config) {window.MathJax.Hub.Config({SVG: {font: \"STIX-Web\"}});}</script>                <script type=\"text/javascript\">window.PlotlyConfig = {MathJaxConfig: 'local'};</script>\n",
              "        <script charset=\"utf-8\" src=\"https://cdn.plot.ly/plotly-2.24.1.min.js\"></script>                <div id=\"95a5ab66-b055-4fbc-ae3a-818553f232ad\" class=\"plotly-graph-div\" style=\"height:525px; width:100%;\"></div>            <script type=\"text/javascript\">                                    window.PLOTLYENV=window.PLOTLYENV || {};                                    if (document.getElementById(\"95a5ab66-b055-4fbc-ae3a-818553f232ad\")) {                    Plotly.newPlot(                        \"95a5ab66-b055-4fbc-ae3a-818553f232ad\",                        [{\"alignmentgroup\":\"True\",\"hovertemplate\":\"TF-IDF Score=%{x}\\u003cbr\\u003eTerm=%{y}\\u003cextra\\u003e\\u003c\\u002fextra\\u003e\",\"legendgroup\":\"\",\"marker\":{\"color\":\"#636efa\",\"pattern\":{\"shape\":\"\"}},\"name\":\"\",\"offsetgroup\":\"\",\"orientation\":\"h\",\"showlegend\":false,\"textposition\":\"auto\",\"x\":[21.30361453827868,15.209000493430382,14.765433643754738,10.844539494640552,8.000474655971708,7.889332159375344,5.7586589341537255,5.31023822280317,5.287460013226069,4.9857538002771005,4.951234316856663,4.805874305625273,4.686582503644676,4.367259708336229,3.9901136456788033,3.88738082912386,3.6924229127862738,3.6145798090468855,3.273353214212666,3.101411827552449,3.0595468566414343,3.018356839486988,2.9366907895415046,2.704900341050597,2.5662881887755438,2.401414511520174,2.330857512951425,2.183818783543254,2.0996113645432013,2.084346512574421,2.0734453594340536,1.936491316192742,1.9203854395181243,1.8284801224012512,1.7942863264042392,1.7439242959109487,1.7042092835401275,1.677086253561618,1.65496336638373,1.5850983728141221,1.566403230961495,1.5024580014861493,1.4926677964853794,1.4757617637422489,1.3602369074255845,1.2759414751414822,1.2694837777181838,1.2582404739879018,1.2428226790361596,1.204133273584859,1.2032249334163878,1.184545047396231,1.1793221661665787,1.1790446122411453,1.1737310799796183,1.168107764787825,1.1671266343890183,1.1183039144107818,1.1172569807012218,1.103505409465095,1.0794594303799734,1.0525468741754398,1.0,1.0,1.0,1.0,1.0,1.0,1.0,1.0,0.9860129687645128,0.9819843326009463,0.9301139419088862,0.9015536936049204,0.9015536936049204,0.8998323979680803,0.892350486007941,0.8769830403780453,0.8735950019107072,0.8588643443748198,0.8496500325280609,0.826095338927271,0.826095338927271,0.8202948013594016,0.7965761635335005,0.7897655450789903,0.7897655450789903,0.7897655450789903,0.7897655450789903,0.7838281744714803,0.7838281744714803,0.7792794345602775,0.7792794345602775,0.7669601255279411,0.7669601255279411,0.7520368503674164,0.7520368503674164,0.7520368503674164,0.7414798890678962,0.740704832165227,0.7385002360982132,0.7360094972885043,0.7331022363349606,0.7331022363349606,0.7331022363349606,0.7331022363349606,0.7331022363349606,0.7249953613302303,0.7249953613302303,0.7071067811865475,0.7071067811865475,0.7071067811865475,0.7071067811865475,0.7071067811865475,0.7071067811865475,0.7052844506553655,0.6936274181254874,0.6915501912770258,0.6907723987140223,0.6873702135499353,0.6847060823090387,0.6798996446604826,0.6496770146000123,0.6493753478892916,0.6425100930079459,0.6396565437253031,0.6396565437253031,0.636885288174749,0.636885288174749,0.6365190099928498,0.636190944655226,0.6344899907971205,0.6197853790815635,0.6197853790815635,0.6197853790815635,0.6197853790815635,0.6167627451493352,0.6061882773067393,0.6061882773067393,0.6058929156874097,0.5912424571791419,0.5912424571791419,0.5793128420325315,0.5793128420325315,0.5773502691896257,0.5773502691896257,0.5773502691896257,0.5725536424618152,0.5664561927695392,0.5664561927695392,0.5584485724728441,0.5584485724728441,0.5527556024909963,0.5527556024909963,0.5371040788438748,0.5371040788438748,0.5317703565969731,0.5317703565969731,0.5291785411834357,0.527132066961521,0.5249479475496354,0.5249479475496354,0.5180537770522835,0.5149779178506645,0.5149779178506645,0.5149779178506645,0.5149340534765569,0.5149340534765569,0.5041095273978707,0.5041095273978707,0.5041095273978707,0.5,0.5,0.5,0.5,0.48961515201401845,0.4882547419420761,0.4882547419420761,0.4882547419420761,0.484562489210139,0.48090689910902196,0.48090689910902196,0.48090689910902196,0.479723842560076,0.479723842560076,0.479723842560076,0.47452659086363375,0.47452659086363375,0.46716579380725753,0.46716579380725753,0.45663880599100365,0.45663880599100365,0.45663880599100365,0.4429940386186054,0.4429940386186054,0.4429940386186054,0.4429940386186054,0.43611711947832527,0.43611711947832527,0.43045113899898213,0.43045113899898213,0.43045113899898213,0.3780655240292251,0.3780655240292251,0.3780655240292251,0.37772554015153437,0.37772554015153437,0.37772554015153437,0.31958482608773103,0.31958482608773103,0.31958482608773103,0.31958482608773103,0.31958482608773103,0.31958482608773103,0.31958482608773103,0.31958482608773103],\"xaxis\":\"x\",\"y\":[\"code\",\"jeans\",\"black\",\"white\",\"love\",\"size\",\"pair\",\"codes\",\"ones\",\"tall\",\"second\",\"wearing\",\"did\",\"beginning\",\"skirt\",\"need\",\"want\",\"backless\",\"reference\",\"obsessed\",\"stradivarius\",\"beautiful\",\"pants\",\"lace\",\"ref\",\"cream\",\"nice\",\"shirt\",\"grey\",\"long\",\"omg\",\"buy\",\"sleeve\",\"pls\",\"short\",\"outfit\",\"got\",\"look\",\"link\",\"hole\",\"pretty\",\"mango\",\"good\",\"blue\",\"pleaseee\",\"fit\",\"number\",\"looks\",\"store\",\"wore\",\"style\",\"zara\",\"d98\",\"wheres\",\"2nd\",\"wear\",\"stunning\",\"firts\",\"3rd\",\"called\",\"57013783\",\"does\",\"bow\",\"excellent\",\"gorgeous\",\"height\",\"stretch\",\"cute\",\"sold\",\"model\",\"tell\",\"light\",\"low\",\"tops\",\"whats\",\"cod\",\"best\",\"say\",\"clip\",\"names\",\"prefer\",\"mom\",\"rip\",\"topp\",\"make\",\"links\",\"gigi\",\"wait\",\"set\",\"broad\",\"shoulders\",\"beige\",\"allll\",\"personalisedbykavanna\",\"form\",\"running\",\"fabulous\",\"quality\",\"start\",\"honney\",\"site\",\"amy\",\"codessss\",\"references\",\"r\\u00e9f\",\"sooo\",\"absolutely\",\"tuge\",\"te\",\"cerysssa\",\"perfect\",\"use\",\"price\",\"selftan\",\"plz\",\"exactly\",\"youre\",\"somebody\",\"list\",\"colour\",\"finished\",\"kidding\",\"vid\",\"options\",\"babe\",\"just\",\"bought\",\"strad\",\"tried\",\"amazing\",\"plis\",\"ur\",\"isn\",\"okay\",\"girls\",\"stradivariusing\",\"saw\",\"post\",\"article\",\"order\",\"zaraing\",\"isnt\",\"ps\",\"outfits\",\"try\",\"said\",\"breast\",\"way\",\"panta\",\"waist\",\"leanne\",\"plant94\",\"jean\",\"hii\",\"adjustments\",\"needing\",\"literally\",\"went\",\"fromm\",\"video\",\"sharing\",\"thank\",\"shop\",\"pleaseeee\",\"color\",\"colors\",\"soooo\",\"sizes\",\"dropping\",\"soon\",\"collection\",\"15606413\",\"shein\",\"referencia\",\"igualito\",\"haul\",\"normal\",\"ordered\",\"pairs\",\"ugly\",\"kace\",\"bday\",\"sure\",\"dutti\",\"massimo\",\"fine\",\"vintage\",\"straight\",\"fat\",\"arms\",\"d92\",\"ex\",\"numbers\",\"body\",\"come\",\"remind\",\"gotta\",\"rise\",\"high\",\"\\u00e9cru\",\"slim\",\"pipping\",\"al\",\"gonna\",\"em\",\"don\",\"lol\",\"outline\",\"force\",\"finally\",\"instead\",\"trying\",\"brand\",\"product\",\"share\",\"storefront\"],\"yaxis\":\"y\",\"type\":\"bar\"}],                        {\"template\":{\"data\":{\"histogram2dcontour\":[{\"type\":\"histogram2dcontour\",\"colorbar\":{\"outlinewidth\":0,\"ticks\":\"\"},\"colorscale\":[[0.0,\"#0d0887\"],[0.1111111111111111,\"#46039f\"],[0.2222222222222222,\"#7201a8\"],[0.3333333333333333,\"#9c179e\"],[0.4444444444444444,\"#bd3786\"],[0.5555555555555556,\"#d8576b\"],[0.6666666666666666,\"#ed7953\"],[0.7777777777777778,\"#fb9f3a\"],[0.8888888888888888,\"#fdca26\"],[1.0,\"#f0f921\"]]}],\"choropleth\":[{\"type\":\"choropleth\",\"colorbar\":{\"outlinewidth\":0,\"ticks\":\"\"}}],\"histogram2d\":[{\"type\":\"histogram2d\",\"colorbar\":{\"outlinewidth\":0,\"ticks\":\"\"},\"colorscale\":[[0.0,\"#0d0887\"],[0.1111111111111111,\"#46039f\"],[0.2222222222222222,\"#7201a8\"],[0.3333333333333333,\"#9c179e\"],[0.4444444444444444,\"#bd3786\"],[0.5555555555555556,\"#d8576b\"],[0.6666666666666666,\"#ed7953\"],[0.7777777777777778,\"#fb9f3a\"],[0.8888888888888888,\"#fdca26\"],[1.0,\"#f0f921\"]]}],\"heatmap\":[{\"type\":\"heatmap\",\"colorbar\":{\"outlinewidth\":0,\"ticks\":\"\"},\"colorscale\":[[0.0,\"#0d0887\"],[0.1111111111111111,\"#46039f\"],[0.2222222222222222,\"#7201a8\"],[0.3333333333333333,\"#9c179e\"],[0.4444444444444444,\"#bd3786\"],[0.5555555555555556,\"#d8576b\"],[0.6666666666666666,\"#ed7953\"],[0.7777777777777778,\"#fb9f3a\"],[0.8888888888888888,\"#fdca26\"],[1.0,\"#f0f921\"]]}],\"heatmapgl\":[{\"type\":\"heatmapgl\",\"colorbar\":{\"outlinewidth\":0,\"ticks\":\"\"},\"colorscale\":[[0.0,\"#0d0887\"],[0.1111111111111111,\"#46039f\"],[0.2222222222222222,\"#7201a8\"],[0.3333333333333333,\"#9c179e\"],[0.4444444444444444,\"#bd3786\"],[0.5555555555555556,\"#d8576b\"],[0.6666666666666666,\"#ed7953\"],[0.7777777777777778,\"#fb9f3a\"],[0.8888888888888888,\"#fdca26\"],[1.0,\"#f0f921\"]]}],\"contourcarpet\":[{\"type\":\"contourcarpet\",\"colorbar\":{\"outlinewidth\":0,\"ticks\":\"\"}}],\"contour\":[{\"type\":\"contour\",\"colorbar\":{\"outlinewidth\":0,\"ticks\":\"\"},\"colorscale\":[[0.0,\"#0d0887\"],[0.1111111111111111,\"#46039f\"],[0.2222222222222222,\"#7201a8\"],[0.3333333333333333,\"#9c179e\"],[0.4444444444444444,\"#bd3786\"],[0.5555555555555556,\"#d8576b\"],[0.6666666666666666,\"#ed7953\"],[0.7777777777777778,\"#fb9f3a\"],[0.8888888888888888,\"#fdca26\"],[1.0,\"#f0f921\"]]}],\"surface\":[{\"type\":\"surface\",\"colorbar\":{\"outlinewidth\":0,\"ticks\":\"\"},\"colorscale\":[[0.0,\"#0d0887\"],[0.1111111111111111,\"#46039f\"],[0.2222222222222222,\"#7201a8\"],[0.3333333333333333,\"#9c179e\"],[0.4444444444444444,\"#bd3786\"],[0.5555555555555556,\"#d8576b\"],[0.6666666666666666,\"#ed7953\"],[0.7777777777777778,\"#fb9f3a\"],[0.8888888888888888,\"#fdca26\"],[1.0,\"#f0f921\"]]}],\"mesh3d\":[{\"type\":\"mesh3d\",\"colorbar\":{\"outlinewidth\":0,\"ticks\":\"\"}}],\"scatter\":[{\"fillpattern\":{\"fillmode\":\"overlay\",\"size\":10,\"solidity\":0.2},\"type\":\"scatter\"}],\"parcoords\":[{\"type\":\"parcoords\",\"line\":{\"colorbar\":{\"outlinewidth\":0,\"ticks\":\"\"}}}],\"scatterpolargl\":[{\"type\":\"scatterpolargl\",\"marker\":{\"colorbar\":{\"outlinewidth\":0,\"ticks\":\"\"}}}],\"bar\":[{\"error_x\":{\"color\":\"#2a3f5f\"},\"error_y\":{\"color\":\"#2a3f5f\"},\"marker\":{\"line\":{\"color\":\"#E5ECF6\",\"width\":0.5},\"pattern\":{\"fillmode\":\"overlay\",\"size\":10,\"solidity\":0.2}},\"type\":\"bar\"}],\"scattergeo\":[{\"type\":\"scattergeo\",\"marker\":{\"colorbar\":{\"outlinewidth\":0,\"ticks\":\"\"}}}],\"scatterpolar\":[{\"type\":\"scatterpolar\",\"marker\":{\"colorbar\":{\"outlinewidth\":0,\"ticks\":\"\"}}}],\"histogram\":[{\"marker\":{\"pattern\":{\"fillmode\":\"overlay\",\"size\":10,\"solidity\":0.2}},\"type\":\"histogram\"}],\"scattergl\":[{\"type\":\"scattergl\",\"marker\":{\"colorbar\":{\"outlinewidth\":0,\"ticks\":\"\"}}}],\"scatter3d\":[{\"type\":\"scatter3d\",\"line\":{\"colorbar\":{\"outlinewidth\":0,\"ticks\":\"\"}},\"marker\":{\"colorbar\":{\"outlinewidth\":0,\"ticks\":\"\"}}}],\"scattermapbox\":[{\"type\":\"scattermapbox\",\"marker\":{\"colorbar\":{\"outlinewidth\":0,\"ticks\":\"\"}}}],\"scatterternary\":[{\"type\":\"scatterternary\",\"marker\":{\"colorbar\":{\"outlinewidth\":0,\"ticks\":\"\"}}}],\"scattercarpet\":[{\"type\":\"scattercarpet\",\"marker\":{\"colorbar\":{\"outlinewidth\":0,\"ticks\":\"\"}}}],\"carpet\":[{\"aaxis\":{\"endlinecolor\":\"#2a3f5f\",\"gridcolor\":\"white\",\"linecolor\":\"white\",\"minorgridcolor\":\"white\",\"startlinecolor\":\"#2a3f5f\"},\"baxis\":{\"endlinecolor\":\"#2a3f5f\",\"gridcolor\":\"white\",\"linecolor\":\"white\",\"minorgridcolor\":\"white\",\"startlinecolor\":\"#2a3f5f\"},\"type\":\"carpet\"}],\"table\":[{\"cells\":{\"fill\":{\"color\":\"#EBF0F8\"},\"line\":{\"color\":\"white\"}},\"header\":{\"fill\":{\"color\":\"#C8D4E3\"},\"line\":{\"color\":\"white\"}},\"type\":\"table\"}],\"barpolar\":[{\"marker\":{\"line\":{\"color\":\"#E5ECF6\",\"width\":0.5},\"pattern\":{\"fillmode\":\"overlay\",\"size\":10,\"solidity\":0.2}},\"type\":\"barpolar\"}],\"pie\":[{\"automargin\":true,\"type\":\"pie\"}]},\"layout\":{\"autotypenumbers\":\"strict\",\"colorway\":[\"#636efa\",\"#EF553B\",\"#00cc96\",\"#ab63fa\",\"#FFA15A\",\"#19d3f3\",\"#FF6692\",\"#B6E880\",\"#FF97FF\",\"#FECB52\"],\"font\":{\"color\":\"#2a3f5f\"},\"hovermode\":\"closest\",\"hoverlabel\":{\"align\":\"left\"},\"paper_bgcolor\":\"white\",\"plot_bgcolor\":\"#E5ECF6\",\"polar\":{\"bgcolor\":\"#E5ECF6\",\"angularaxis\":{\"gridcolor\":\"white\",\"linecolor\":\"white\",\"ticks\":\"\"},\"radialaxis\":{\"gridcolor\":\"white\",\"linecolor\":\"white\",\"ticks\":\"\"}},\"ternary\":{\"bgcolor\":\"#E5ECF6\",\"aaxis\":{\"gridcolor\":\"white\",\"linecolor\":\"white\",\"ticks\":\"\"},\"baxis\":{\"gridcolor\":\"white\",\"linecolor\":\"white\",\"ticks\":\"\"},\"caxis\":{\"gridcolor\":\"white\",\"linecolor\":\"white\",\"ticks\":\"\"}},\"coloraxis\":{\"colorbar\":{\"outlinewidth\":0,\"ticks\":\"\"}},\"colorscale\":{\"sequential\":[[0.0,\"#0d0887\"],[0.1111111111111111,\"#46039f\"],[0.2222222222222222,\"#7201a8\"],[0.3333333333333333,\"#9c179e\"],[0.4444444444444444,\"#bd3786\"],[0.5555555555555556,\"#d8576b\"],[0.6666666666666666,\"#ed7953\"],[0.7777777777777778,\"#fb9f3a\"],[0.8888888888888888,\"#fdca26\"],[1.0,\"#f0f921\"]],\"sequentialminus\":[[0.0,\"#0d0887\"],[0.1111111111111111,\"#46039f\"],[0.2222222222222222,\"#7201a8\"],[0.3333333333333333,\"#9c179e\"],[0.4444444444444444,\"#bd3786\"],[0.5555555555555556,\"#d8576b\"],[0.6666666666666666,\"#ed7953\"],[0.7777777777777778,\"#fb9f3a\"],[0.8888888888888888,\"#fdca26\"],[1.0,\"#f0f921\"]],\"diverging\":[[0,\"#8e0152\"],[0.1,\"#c51b7d\"],[0.2,\"#de77ae\"],[0.3,\"#f1b6da\"],[0.4,\"#fde0ef\"],[0.5,\"#f7f7f7\"],[0.6,\"#e6f5d0\"],[0.7,\"#b8e186\"],[0.8,\"#7fbc41\"],[0.9,\"#4d9221\"],[1,\"#276419\"]]},\"xaxis\":{\"gridcolor\":\"white\",\"linecolor\":\"white\",\"ticks\":\"\",\"title\":{\"standoff\":15},\"zerolinecolor\":\"white\",\"automargin\":true,\"zerolinewidth\":2},\"yaxis\":{\"gridcolor\":\"white\",\"linecolor\":\"white\",\"ticks\":\"\",\"title\":{\"standoff\":15},\"zerolinecolor\":\"white\",\"automargin\":true,\"zerolinewidth\":2},\"scene\":{\"xaxis\":{\"backgroundcolor\":\"#E5ECF6\",\"gridcolor\":\"white\",\"linecolor\":\"white\",\"showbackground\":true,\"ticks\":\"\",\"zerolinecolor\":\"white\",\"gridwidth\":2},\"yaxis\":{\"backgroundcolor\":\"#E5ECF6\",\"gridcolor\":\"white\",\"linecolor\":\"white\",\"showbackground\":true,\"ticks\":\"\",\"zerolinecolor\":\"white\",\"gridwidth\":2},\"zaxis\":{\"backgroundcolor\":\"#E5ECF6\",\"gridcolor\":\"white\",\"linecolor\":\"white\",\"showbackground\":true,\"ticks\":\"\",\"zerolinecolor\":\"white\",\"gridwidth\":2}},\"shapedefaults\":{\"line\":{\"color\":\"#2a3f5f\"}},\"annotationdefaults\":{\"arrowcolor\":\"#2a3f5f\",\"arrowhead\":0,\"arrowwidth\":1},\"geo\":{\"bgcolor\":\"white\",\"landcolor\":\"#E5ECF6\",\"subunitcolor\":\"white\",\"showland\":true,\"showlakes\":true,\"lakecolor\":\"white\"},\"title\":{\"x\":0.05},\"mapbox\":{\"style\":\"light\"}}},\"xaxis\":{\"anchor\":\"y\",\"domain\":[0.0,1.0],\"title\":{\"text\":\"TF-IDF Score\"}},\"yaxis\":{\"anchor\":\"x\",\"domain\":[0.0,1.0],\"title\":{\"text\":\"Term\"}},\"legend\":{\"tracegroupgap\":0},\"title\":{\"text\":\"Top Terms by Frequency\"},\"barmode\":\"relative\"},                        {\"responsive\": true}                    ).then(function(){\n",
              "                            \n",
              "var gd = document.getElementById('95a5ab66-b055-4fbc-ae3a-818553f232ad');\n",
              "var x = new MutationObserver(function (mutations, observer) {{\n",
              "        var display = window.getComputedStyle(gd).display;\n",
              "        if (!display || display === 'none') {{\n",
              "            console.log([gd, 'removed!']);\n",
              "            Plotly.purge(gd);\n",
              "            observer.disconnect();\n",
              "        }}\n",
              "}});\n",
              "\n",
              "// Listen for the removal of the full notebook cells\n",
              "var notebookContainer = gd.closest('#notebook-container');\n",
              "if (notebookContainer) {{\n",
              "    x.observe(notebookContainer, {childList: true});\n",
              "}}\n",
              "\n",
              "// Listen for the clearing of the current output cell\n",
              "var outputEl = gd.closest('.output');\n",
              "if (outputEl) {{\n",
              "    x.observe(outputEl, {childList: true});\n",
              "}}\n",
              "\n",
              "                        })                };                            </script>        </div>\n",
              "</body>\n",
              "</html>"
            ]
          },
          "metadata": {}
        }
      ]
    },
    {
      "cell_type": "markdown",
      "source": [
        "We can see that the TF-IDF scores the word 'code' the highest, which confirms the frequency and the importance of it."
      ],
      "metadata": {
        "id": "gN1HALuyvYDc"
      }
    },
    {
      "cell_type": "code",
      "source": [
        "\n",
        "# Filter comments with 'code'\n",
        "code_comments = df[df['text'].str.contains('code', case=False)]\n",
        "\n",
        "# Analysing likes on filtered comments\n",
        "code_likes = code_comments['diggCount']\n",
        "\n",
        "# summary statistics\n",
        "print(\"Summary Statistics for Likes on Comments with 'code':\")\n",
        "print(code_likes.describe())\n",
        "\n",
        "# Visualizing the data (creating a histogram)\n",
        "plt.figure(figsize=(10, 6))\n",
        "plt.hist(code_likes, bins=20, color='forestgreen', edgecolor='black')\n",
        "plt.title('Distribution of Likes on Comments with \"code\"')\n",
        "plt.xlabel('Number of Likes')\n",
        "plt.ylabel('Frequency')\n",
        "plt.grid(axis='y', linestyle='--', alpha=0.7)\n",
        "plt.show()\n"
      ],
      "metadata": {
        "colab": {
          "base_uri": "https://localhost:8080/",
          "height": 738
        },
        "id": "HHbbRBlJteyd",
        "outputId": "936b337f-df46-44fa-c303-5144c8292b4e"
      },
      "execution_count": 42,
      "outputs": [
        {
          "output_type": "stream",
          "name": "stdout",
          "text": [
            "Summary Statistics for Likes on Comments with 'code':\n",
            "count    46.000000\n",
            "mean      8.043478\n",
            "std      12.009175\n",
            "min       0.000000\n",
            "25%       3.000000\n",
            "50%       5.000000\n",
            "75%       6.750000\n",
            "max      54.000000\n",
            "Name: diggCount, dtype: float64\n"
          ]
        },
        {
          "output_type": "display_data",
          "data": {
            "text/plain": [
              "<Figure size 1000x600 with 1 Axes>"
            ],
            "image/png": "[encoded data removed]"
          },
          "metadata": {}
        }
      ]
    },
    {
      "cell_type": "markdown",
      "source": [
        "To understand even better the user engagement, I have analysed how many likes the comments involving the word 'code' have got. How many likes a comment has can indicate that more people are interested in the code than the ones that commented, who are possibly following the replies to the comments asking for the product code. We can see that most comments have between 0 and 10 likes, which means that there are comments with the word 'code' that have 0 likes, while 2 comments containing the word 'code' have around 40 and 50 likes.\n",
        "\n",
        "We can interpret further from the statistical analysis results that there are 46 comments containing the word 'code' and the average number of likes for these comments is 8. As observed in the histogram, there can also be comments with 0 likes. The maximum number of likes for a comment with the word 'code' is 54."
      ],
      "metadata": {
        "id": "TGE-VvT0udoW"
      }
    },
    {
      "cell_type": "markdown",
      "source": [
        "**Conclusion**\n",
        "\n",
        "In the end, through this analysis we can conclude that social media has an impact on how much people purchase online or offline by measuring the engagement metrics of users with the selected TikTok content. We can see that a considerable amount of comments are expressing interest in purchasing the product promoted by using the word 'code' to ask for the product code. Furthermore, we can see how content promoting fashion can spark different topics of discussions between the intention to purchase the product and details regarding sizes, fit, style and body shape. Of course, more research can be done on this topic. This project has had its limitations in terms of dataset size and methods. However,using topic modeling, TF-IDF and correlation analysis have been useful in understanding and answering the research question."
      ],
      "metadata": {
        "id": "bCqpOjWmfXpo"
      }
    },
    {
      "cell_type": "markdown",
      "source": [
        "References:\n",
        "\n",
        "Statista. (June 15, 2022). Number of social media users worldwide from 2017 to 2027 (in billions) [Graph]. In Statista. Retrieved December 14, 2023, from https://www.statista.com/statistics/278414/number-of-worldwide-social-network-users/\n",
        "\n",
        "Manneh, M. (2017). The Influence of Social Media on E-commerce : Fast Fashion Multinational Companies (Dissertation). Retrieved from https://urn.kb.se/resolve?urn=urn:nbn:se:hig:diva-23842\n",
        "\n",
        "Neuendorf, K. (2017). Measurement and validity. In The Content Analysis Guidebook ( Second ed., pp. 121-164). SAGE Publications, Inc, https://doi.org/10.4135/9781071802878\n",
        "\n",
        "Kedia, Aman, and Mayank Rasu. Hands-On Python Natural Language Processing : Explore Tools and Techniques to Analyze and Process Text with a View to Building Real-World NLP Applications, Packt Publishing, Limited, 2020. ProQuest Ebook Central, https://ebookcentral.proquest.com/lib/lund/detail.action?docID=6241952.\n",
        "\n",
        "The coding in this syntax has been executed with the help of Open AI specifically ChatGPT free version and the syntaxes provided during class."
      ],
      "metadata": {
        "id": "6yUlaEaukQWy"
      }
    }
  ]
}